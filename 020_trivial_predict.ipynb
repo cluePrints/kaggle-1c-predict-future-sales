{
 "cells": [
  {
   "cell_type": "code",
   "execution_count": 1,
   "metadata": {},
   "outputs": [],
   "source": [
    "%matplotlib inline\n",
    "import pandas as pd\n",
    "import numpy as np"
   ]
  },
  {
   "cell_type": "code",
   "execution_count": 2,
   "metadata": {},
   "outputs": [
    {
     "data": {
      "text/html": [
       "<div>\n",
       "<style scoped>\n",
       "    .dataframe tbody tr th:only-of-type {\n",
       "        vertical-align: middle;\n",
       "    }\n",
       "\n",
       "    .dataframe tbody tr th {\n",
       "        vertical-align: top;\n",
       "    }\n",
       "\n",
       "    .dataframe thead th {\n",
       "        text-align: right;\n",
       "    }\n",
       "</style>\n",
       "<table border=\"1\" class=\"dataframe\">\n",
       "  <thead>\n",
       "    <tr style=\"text-align: right;\">\n",
       "      <th></th>\n",
       "      <th>ID</th>\n",
       "      <th>shop_id</th>\n",
       "      <th>item_id</th>\n",
       "    </tr>\n",
       "  </thead>\n",
       "  <tbody>\n",
       "    <tr>\n",
       "      <th>0</th>\n",
       "      <td>0</td>\n",
       "      <td>5</td>\n",
       "      <td>5037</td>\n",
       "    </tr>\n",
       "  </tbody>\n",
       "</table>\n",
       "</div>"
      ],
      "text/plain": [
       "   ID  shop_id  item_id\n",
       "0   0        5     5037"
      ]
     },
     "execution_count": 2,
     "metadata": {},
     "output_type": "execute_result"
    }
   ],
   "source": [
    "test = pd.read_csv('raw/test.csv')\n",
    "test.head(1)"
   ]
  },
  {
   "cell_type": "code",
   "execution_count": 3,
   "metadata": {},
   "outputs": [
    {
     "data": {
      "text/html": [
       "<div>\n",
       "<style scoped>\n",
       "    .dataframe tbody tr th:only-of-type {\n",
       "        vertical-align: middle;\n",
       "    }\n",
       "\n",
       "    .dataframe tbody tr th {\n",
       "        vertical-align: top;\n",
       "    }\n",
       "\n",
       "    .dataframe thead th {\n",
       "        text-align: right;\n",
       "    }\n",
       "</style>\n",
       "<table border=\"1\" class=\"dataframe\">\n",
       "  <thead>\n",
       "    <tr style=\"text-align: right;\">\n",
       "      <th></th>\n",
       "      <th>ID</th>\n",
       "      <th>item_cnt_month</th>\n",
       "    </tr>\n",
       "  </thead>\n",
       "  <tbody>\n",
       "    <tr>\n",
       "      <th>0</th>\n",
       "      <td>0</td>\n",
       "      <td>0.5</td>\n",
       "    </tr>\n",
       "  </tbody>\n",
       "</table>\n",
       "</div>"
      ],
      "text/plain": [
       "   ID  item_cnt_month\n",
       "0   0             0.5"
      ]
     },
     "execution_count": 3,
     "metadata": {},
     "output_type": "execute_result"
    }
   ],
   "source": [
    "sample_submission = pd.read_csv('raw/sample_submission.csv')\n",
    "sample_submission.head(1)"
   ]
  },
  {
   "cell_type": "code",
   "execution_count": 4,
   "metadata": {},
   "outputs": [
    {
     "data": {
      "text/plain": [
       "ID         214200\n",
       "shop_id    214200\n",
       "item_id    214200\n",
       "dtype: int64"
      ]
     },
     "execution_count": 4,
     "metadata": {},
     "output_type": "execute_result"
    }
   ],
   "source": [
    "test.count()"
   ]
  },
  {
   "cell_type": "code",
   "execution_count": 5,
   "metadata": {},
   "outputs": [
    {
     "data": {
      "text/plain": [
       "ID                214200\n",
       "item_cnt_month    214200\n",
       "dtype: int64"
      ]
     },
     "execution_count": 5,
     "metadata": {},
     "output_type": "execute_result"
    }
   ],
   "source": [
    "sample_submission.count()"
   ]
  },
  {
   "cell_type": "code",
   "execution_count": 6,
   "metadata": {},
   "outputs": [
    {
     "data": {
      "text/html": [
       "<div>\n",
       "<style scoped>\n",
       "    .dataframe tbody tr th:only-of-type {\n",
       "        vertical-align: middle;\n",
       "    }\n",
       "\n",
       "    .dataframe tbody tr th {\n",
       "        vertical-align: top;\n",
       "    }\n",
       "\n",
       "    .dataframe thead th {\n",
       "        text-align: right;\n",
       "    }\n",
       "</style>\n",
       "<table border=\"1\" class=\"dataframe\">\n",
       "  <thead>\n",
       "    <tr style=\"text-align: right;\">\n",
       "      <th></th>\n",
       "      <th>date</th>\n",
       "      <th>date_block_num</th>\n",
       "      <th>shop_id</th>\n",
       "      <th>item_id</th>\n",
       "      <th>item_price</th>\n",
       "      <th>item_cnt_day</th>\n",
       "    </tr>\n",
       "  </thead>\n",
       "  <tbody>\n",
       "    <tr>\n",
       "      <th>0</th>\n",
       "      <td>2013-02-01</td>\n",
       "      <td>0</td>\n",
       "      <td>59</td>\n",
       "      <td>22154</td>\n",
       "      <td>999.0</td>\n",
       "      <td>1.0</td>\n",
       "    </tr>\n",
       "    <tr>\n",
       "      <th>1</th>\n",
       "      <td>2013-03-01</td>\n",
       "      <td>0</td>\n",
       "      <td>25</td>\n",
       "      <td>2552</td>\n",
       "      <td>899.0</td>\n",
       "      <td>1.0</td>\n",
       "    </tr>\n",
       "  </tbody>\n",
       "</table>\n",
       "</div>"
      ],
      "text/plain": [
       "        date  date_block_num  shop_id  item_id  item_price  item_cnt_day\n",
       "0 2013-02-01               0       59    22154       999.0           1.0\n",
       "1 2013-03-01               0       25     2552       899.0           1.0"
      ]
     },
     "execution_count": 6,
     "metadata": {},
     "output_type": "execute_result"
    }
   ],
   "source": [
    "train = pd.read_csv('raw/sales_train.csv')\n",
    "train['date'] = pd.to_datetime(train['date'])\n",
    "train.head(2)\n",
    "# TODO: exclude date leaks"
   ]
  },
  {
   "cell_type": "code",
   "execution_count": 7,
   "metadata": {},
   "outputs": [],
   "source": [
    "def forecast_as_all_time_average(trn, forecast_month_length, ):\n",
    "    forecast = (trn\n",
    "        .groupby(['item_id', 'shop_id'],\n",
    "                as_index=False)\n",
    "        .agg({'item_cnt_day': ['sum', 'count'],\n",
    "              'date': ['min', 'max']})\n",
    "    )\n",
    "    forecast['sale_days'] = (forecast['date']['max']-forecast['date']['min']).dt.days + 1\n",
    "    forecast['avg_daily_sale_items'] = forecast['item_cnt_day']['sum'] / forecast['sale_days']\n",
    "    # TODO: wouldn't it be better to split daily forecasting and monthly aggs into like separate things to experiment?\n",
    "    forecast = pd.DataFrame({\n",
    "        'item_id': forecast['item_id'],\n",
    "        'shop_id': forecast['shop_id'],\n",
    "        'item_cnt_month': forecast['avg_daily_sale_items']*forecast_month_length\n",
    "    })\n",
    "    return forecast"
   ]
  },
  {
   "cell_type": "code",
   "execution_count": 8,
   "metadata": {},
   "outputs": [
    {
     "data": {
      "text/html": [
       "<div>\n",
       "<style scoped>\n",
       "    .dataframe tbody tr th:only-of-type {\n",
       "        vertical-align: middle;\n",
       "    }\n",
       "\n",
       "    .dataframe tbody tr th {\n",
       "        vertical-align: top;\n",
       "    }\n",
       "\n",
       "    .dataframe thead th {\n",
       "        text-align: right;\n",
       "    }\n",
       "</style>\n",
       "<table border=\"1\" class=\"dataframe\">\n",
       "  <thead>\n",
       "    <tr style=\"text-align: right;\">\n",
       "      <th></th>\n",
       "      <th>item_id</th>\n",
       "      <th>shop_id</th>\n",
       "      <th>item_cnt_month</th>\n",
       "    </tr>\n",
       "  </thead>\n",
       "  <tbody>\n",
       "    <tr>\n",
       "      <th>0</th>\n",
       "      <td>1</td>\n",
       "      <td>1</td>\n",
       "      <td>60.0</td>\n",
       "    </tr>\n",
       "    <tr>\n",
       "      <th>1</th>\n",
       "      <td>1</td>\n",
       "      <td>2</td>\n",
       "      <td>90.0</td>\n",
       "    </tr>\n",
       "    <tr>\n",
       "      <th>2</th>\n",
       "      <td>2</td>\n",
       "      <td>1</td>\n",
       "      <td>30.0</td>\n",
       "    </tr>\n",
       "    <tr>\n",
       "      <th>3</th>\n",
       "      <td>3</td>\n",
       "      <td>1</td>\n",
       "      <td>15.0</td>\n",
       "    </tr>\n",
       "  </tbody>\n",
       "</table>\n",
       "</div>"
      ],
      "text/plain": [
       "   item_id  shop_id  item_cnt_month\n",
       "0        1        1            60.0\n",
       "1        1        2            90.0\n",
       "2        2        1            30.0\n",
       "3        3        1            15.0"
      ]
     },
     "execution_count": 8,
     "metadata": {},
     "output_type": "execute_result"
    }
   ],
   "source": [
    "example = pd.DataFrame(\n",
    "    columns=['date', 'item_id', 'shop_id', 'item_cnt_day'],\n",
    "    data=[\n",
    "        ['2010-01-01', 1, 1, 2],\n",
    "        ['2010-01-01', 1, 2, 3],\n",
    "        ['2010-01-01', 2, 1, 1],\n",
    "        ['2010-01-01', 3, 1, 1],\n",
    "        ['2010-01-06', 3, 1, 2],\n",
    "    ]\n",
    ")\n",
    "example['date'] = pd.to_datetime(example['date'])\n",
    "\n",
    "# TODO: wrap that in proper test ids\n",
    "forecast = forecast_as_all_time_average(example, forecast_month_length=30)\n",
    "forecast"
   ]
  },
  {
   "cell_type": "code",
   "execution_count": 9,
   "metadata": {},
   "outputs": [],
   "source": [
    "assert 60 == forecast.query('item_id == 1 and shop_id == 1')['item_cnt_month'].values[0]\n",
    "assert 90 == forecast.query('item_id == 1 and shop_id == 2')['item_cnt_month'].values[0]\n",
    "assert 30 == forecast.query('item_id == 2 and shop_id == 1')['item_cnt_month'].values[0]\n",
    "assert 15 == forecast.query('item_id == 3 and shop_id == 1')['item_cnt_month'].values[0]"
   ]
  },
  {
   "cell_type": "code",
   "execution_count": 10,
   "metadata": {},
   "outputs": [],
   "source": [
    "train_forecast = forecast_as_all_time_average(train, 30)"
   ]
  },
  {
   "cell_type": "code",
   "execution_count": 11,
   "metadata": {},
   "outputs": [],
   "source": [
    "def forecast_to_submission(forecast):\n",
    "    submission = test.merge(forecast, on=['item_id', 'shop_id'], how='left')\n",
    "    assert len(test) == len(submission), (f\"Generated submission length({len(submission)})\" +\n",
    "     f\" doesn't match to expected submission length ({len(test)})\")\n",
    "    submission.fillna(0, inplace=True)\n",
    "    submission.drop(['shop_id', 'item_id'], axis=1, inplace=True)\n",
    "    return submission\n",
    "\n",
    "submission = forecast_to_submission(train_forecast)"
   ]
  },
  {
   "cell_type": "code",
   "execution_count": 12,
   "metadata": {},
   "outputs": [],
   "source": [
    "!mkdir -p submissions"
   ]
  },
  {
   "cell_type": "code",
   "execution_count": 13,
   "metadata": {},
   "outputs": [],
   "source": [
    "submission.to_csv('submissions/submission_0001_avg_future_unfiltered.csv', index=False)"
   ]
  },
  {
   "cell_type": "code",
   "execution_count": 47,
   "metadata": {
    "scrolled": false
   },
   "outputs": [
    {
     "name": "stdout",
     "output_type": "stream",
     "text": [
      "ID,item_cnt_month\r\n",
      "0,1.1304347826086958\r\n"
     ]
    }
   ],
   "source": [
    "# Score: 11.15418\n",
    "!head -n2 submissions/submission_0001_avg_future_unfiltered.csv"
   ]
  },
  {
   "cell_type": "code",
   "execution_count": 48,
   "metadata": {},
   "outputs": [
    {
     "data": {
      "text/plain": [
       "<AxesSubplot:>"
      ]
     },
     "execution_count": 48,
     "metadata": {},
     "output_type": "execute_result"
    },
    {
     "data": {
      "image/png": "[encoded data removed]",
      "text/plain": [
       "<Figure size 432x288 with 1 Axes>"
      ]
     },
     "metadata": {
      "needs_background": "light"
     },
     "output_type": "display_data"
    }
   ],
   "source": [
    "submission['item_cnt_month'].hist(log=True)"
   ]
  },
  {
   "cell_type": "code",
   "execution_count": 43,
   "metadata": {},
   "outputs": [],
   "source": [
    "target_forecast_start = pd.to_datetime('2015-11-01')\n",
    "train_no_future = train.query('date < @target_forecast_start')\n",
    "forecast = forecast_as_all_time_average(train_no_future, forecast_month_length=30)\n",
    "submission = forecast_to_submission(forecast)\n",
    "submission.to_csv('submissions/submission_0002_avg_future_train_removed.csv', index=False)"
   ]
  },
  {
   "cell_type": "code",
   "execution_count": 44,
   "metadata": {},
   "outputs": [
    {
     "name": "stdout",
     "output_type": "stream",
     "text": [
      "ID,item_cnt_month\r\n",
      "0,1.1304347826086958\r\n"
     ]
    }
   ],
   "source": [
    "# Score: 11.22965 (worse, than unfiltered, sort of confirms some of the train data is leak from the test)\n",
    "!head -n2 submissions/submission_0002*.csv"
   ]
  },
  {
   "cell_type": "code",
   "execution_count": 49,
   "metadata": {},
   "outputs": [
    {
     "data": {
      "text/plain": [
       "<AxesSubplot:>"
      ]
     },
     "execution_count": 49,
     "metadata": {},
     "output_type": "execute_result"
    },
    {
     "data": {
      "image/png": "[encoded data removed]",
      "text/plain": [
       "<Figure size 432x288 with 1 Axes>"
      ]
     },
     "metadata": {
      "needs_background": "light"
     },
     "output_type": "display_data"
    }
   ],
   "source": [
    "submission['item_cnt_month'].hist(log=True)"
   ]
  },
  {
   "cell_type": "code",
   "execution_count": 56,
   "metadata": {},
   "outputs": [],
   "source": [
    "def forecast_last_average(trn, forecast_month_length, train_interval_len, target_forecast_start):\n",
    "    target_forecast_start = pd.to_datetime(target_forecast_start)\n",
    "    tmp = trn.copy()\n",
    "    tmp['days_before_target'] = (target_forecast_start - tmp['date']).dt.days\n",
    "    tmp = tmp.query('days_before_target > 0 and days_before_target < @train_interval_len')\n",
    "\n",
    "    forecast = (tmp\n",
    "        .groupby(['item_id', 'shop_id'],\n",
    "                as_index=False)\n",
    "        .agg({'item_cnt_day': ['sum', 'count'],\n",
    "              'date': ['min', 'max']})\n",
    "    )\n",
    "    forecast['sale_days'] = (forecast['date']['max']-forecast['date']['min']).dt.days + 1\n",
    "    forecast['avg_daily_sale_items'] = forecast['item_cnt_day']['sum'] / train_interval_len\n",
    "\n",
    "    forecast = pd.DataFrame({\n",
    "        'item_id': forecast['item_id'],\n",
    "        'shop_id': forecast['shop_id'],\n",
    "        'item_cnt_month': forecast['avg_daily_sale_items']*forecast_month_length\n",
    "    })\n",
    "    return forecast"
   ]
  },
  {
   "cell_type": "code",
   "execution_count": 57,
   "metadata": {},
   "outputs": [
    {
     "data": {
      "text/html": [
       "<div>\n",
       "<style scoped>\n",
       "    .dataframe tbody tr th:only-of-type {\n",
       "        vertical-align: middle;\n",
       "    }\n",
       "\n",
       "    .dataframe tbody tr th {\n",
       "        vertical-align: top;\n",
       "    }\n",
       "\n",
       "    .dataframe thead th {\n",
       "        text-align: right;\n",
       "    }\n",
       "</style>\n",
       "<table border=\"1\" class=\"dataframe\">\n",
       "  <thead>\n",
       "    <tr style=\"text-align: right;\">\n",
       "      <th></th>\n",
       "      <th>item_id</th>\n",
       "      <th>shop_id</th>\n",
       "      <th>item_cnt_month</th>\n",
       "    </tr>\n",
       "  </thead>\n",
       "  <tbody>\n",
       "    <tr>\n",
       "      <th>0</th>\n",
       "      <td>3</td>\n",
       "      <td>1</td>\n",
       "      <td>0.5</td>\n",
       "    </tr>\n",
       "  </tbody>\n",
       "</table>\n",
       "</div>"
      ],
      "text/plain": [
       "   item_id  shop_id  item_cnt_month\n",
       "0        3        1             0.5"
      ]
     },
     "execution_count": 57,
     "metadata": {},
     "output_type": "execute_result"
    }
   ],
   "source": [
    "example = pd.DataFrame(\n",
    "    columns=['date', 'item_id', 'shop_id', 'item_cnt_day'],\n",
    "    data=[\n",
    "        ['2010-01-01', 1, 1, 2],\n",
    "        ['2010-01-01', 1, 2, 3],\n",
    "        ['2010-01-01', 2, 1, 1],\n",
    "        ['2010-01-01', 3, 1, 1],\n",
    "        ['2010-01-06', 3, 1, 2],\n",
    "    ]\n",
    ")\n",
    "example['date'] = pd.to_datetime(example['date'])\n",
    "\n",
    "forecast = forecast_last_average(example,\n",
    "                                forecast_month_length=1,\n",
    "                                train_interval_len=4,\n",
    "                                target_forecast_start='2010-01-07')\n",
    "forecast"
   ]
  },
  {
   "cell_type": "code",
   "execution_count": 58,
   "metadata": {},
   "outputs": [],
   "source": [
    "assert 0.5 == forecast.query('item_id == 3 and shop_id == 1')['item_cnt_month'].values[0]\n",
    "assert 1  == len(forecast)"
   ]
  },
  {
   "cell_type": "code",
   "execution_count": 59,
   "metadata": {},
   "outputs": [],
   "source": [
    "target_forecast_start = pd.to_datetime('2015-11-01')\n",
    "train_no_future = train.query('date < @target_forecast_start')\n",
    "forecast = forecast_last_average(train_no_future,\n",
    "                                 forecast_month_length=30,\n",
    "                                 train_interval_len=30,\n",
    "                                 target_forecast_start=target_forecast_start)\n",
    "submission = forecast_to_submission(forecast)\n",
    "submission.to_csv('submissions/submission_0003_avg_last_mo.csv', index=False)"
   ]
  },
  {
   "cell_type": "code",
   "execution_count": 50,
   "metadata": {
    "scrolled": true
   },
   "outputs": [
    {
     "name": "stdout",
     "output_type": "stream",
     "text": [
      "ID,item_cnt_month\r\n",
      "0,0.0\r\n",
      "1,0.0\r\n",
      "2,0.0\r\n",
      "3,0.0\r\n"
     ]
    }
   ],
   "source": [
    "# Score: 8.42181, last month represents the next one much better than overall avg history\n",
    "!head -n5 submissions/submission_0003*.csv"
   ]
  },
  {
   "cell_type": "code",
   "execution_count": 65,
   "metadata": {},
   "outputs": [
    {
     "data": {
      "text/plain": [
       "<AxesSubplot:>"
      ]
     },
     "execution_count": 65,
     "metadata": {},
     "output_type": "execute_result"
    },
    {
     "data": {
      "image/png": "[encoded data removed]",
      "text/plain": [
       "<Figure size 432x288 with 1 Axes>"
      ]
     },
     "metadata": {
      "needs_background": "light"
     },
     "output_type": "display_data"
    }
   ],
   "source": [
    "# this looks much more depressive vs prev subs but also closer to the truth\n",
    "submission['item_cnt_month'].hist(log=True)"
   ]
  },
  {
   "cell_type": "code",
   "execution_count": 52,
   "metadata": {},
   "outputs": [
    {
     "data": {
      "text/plain": [
       "422578"
      ]
     },
     "execution_count": 52,
     "metadata": {},
     "output_type": "execute_result"
    }
   ],
   "source": [
    "len(forecast)"
   ]
  },
  {
   "cell_type": "code",
   "execution_count": 64,
   "metadata": {},
   "outputs": [
    {
     "data": {
      "text/plain": [
       "0.0      187331\n",
       "1.0       18662\n",
       "2.0        4423\n",
       "3.0        1583\n",
       "4.0         756\n",
       "          ...  \n",
       "421.0         1\n",
       "115.0         1\n",
       "37.0          1\n",
       "77.0          1\n",
       "78.0          1\n",
       "Name: item_cnt_month, Length: 78, dtype: int64"
      ]
     },
     "execution_count": 64,
     "metadata": {},
     "output_type": "execute_result"
    }
   ],
   "source": [
    "submission['item_cnt_month'].value_counts()"
   ]
  },
  {
   "cell_type": "code",
   "execution_count": null,
   "metadata": {},
   "outputs": [],
   "source": []
  }
 ],
 "metadata": {
  "kernelspec": {
   "display_name": "Python 3",
   "language": "python",
   "name": "python3"
  },
  "language_info": {
   "codemirror_mode": {
    "name": "ipython",
    "version": 3
   },
   "file_extension": ".py",
   "mimetype": "text/x-python",
   "name": "python",
   "nbconvert_exporter": "python",
   "pygments_lexer": "ipython3",
   "version": "3.8.2"
  }
 },
 "nbformat": 4,
 "nbformat_minor": 4
}
