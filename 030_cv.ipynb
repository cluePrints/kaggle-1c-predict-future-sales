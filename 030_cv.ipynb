{
 "cells": [
  {
   "cell_type": "code",
   "execution_count": 1,
   "metadata": {},
   "outputs": [],
   "source": [
    "%matplotlib inline\n",
    "%load_ext autoreload\n",
    "%autoreload 2"
   ]
  },
  {
   "cell_type": "code",
   "execution_count": 2,
   "metadata": {},
   "outputs": [],
   "source": [
    "# export\n",
    "import pandas as pd\n",
    "import numpy as np\n",
    "from datetime import timedelta"
   ]
  },
  {
   "cell_type": "code",
   "execution_count": 3,
   "metadata": {},
   "outputs": [
    {
     "data": {
      "text/html": [
       "<div>\n",
       "<style scoped>\n",
       "    .dataframe tbody tr th:only-of-type {\n",
       "        vertical-align: middle;\n",
       "    }\n",
       "\n",
       "    .dataframe tbody tr th {\n",
       "        vertical-align: top;\n",
       "    }\n",
       "\n",
       "    .dataframe thead th {\n",
       "        text-align: right;\n",
       "    }\n",
       "</style>\n",
       "<table border=\"1\" class=\"dataframe\">\n",
       "  <thead>\n",
       "    <tr style=\"text-align: right;\">\n",
       "      <th></th>\n",
       "      <th>date</th>\n",
       "      <th>date_block_num</th>\n",
       "      <th>shop_id</th>\n",
       "      <th>item_id</th>\n",
       "      <th>item_price</th>\n",
       "      <th>item_cnt_day</th>\n",
       "    </tr>\n",
       "  </thead>\n",
       "  <tbody>\n",
       "    <tr>\n",
       "      <th>0</th>\n",
       "      <td>2013-02-01</td>\n",
       "      <td>0</td>\n",
       "      <td>59</td>\n",
       "      <td>22154</td>\n",
       "      <td>999.0</td>\n",
       "      <td>1.0</td>\n",
       "    </tr>\n",
       "    <tr>\n",
       "      <th>1</th>\n",
       "      <td>2013-03-01</td>\n",
       "      <td>0</td>\n",
       "      <td>25</td>\n",
       "      <td>2552</td>\n",
       "      <td>899.0</td>\n",
       "      <td>1.0</td>\n",
       "    </tr>\n",
       "  </tbody>\n",
       "</table>\n",
       "</div>"
      ],
      "text/plain": [
       "        date  date_block_num  shop_id  item_id  item_price  item_cnt_day\n",
       "0 2013-02-01               0       59    22154       999.0           1.0\n",
       "1 2013-03-01               0       25     2552       899.0           1.0"
      ]
     },
     "execution_count": 3,
     "metadata": {},
     "output_type": "execute_result"
    }
   ],
   "source": [
    "from kaggle_1c_predict_future_sales.trivial_predict import read_train, forecast_last_average, forecast_to_submission\n",
    "\n",
    "train_all_time = read_train()\n",
    "train_all_time.head(2)"
   ]
  },
  {
   "cell_type": "code",
   "execution_count": 4,
   "metadata": {},
   "outputs": [
    {
     "data": {
      "text/html": [
       "<div>\n",
       "<style scoped>\n",
       "    .dataframe tbody tr th:only-of-type {\n",
       "        vertical-align: middle;\n",
       "    }\n",
       "\n",
       "    .dataframe tbody tr th {\n",
       "        vertical-align: top;\n",
       "    }\n",
       "\n",
       "    .dataframe thead th {\n",
       "        text-align: right;\n",
       "    }\n",
       "</style>\n",
       "<table border=\"1\" class=\"dataframe\">\n",
       "  <thead>\n",
       "    <tr style=\"text-align: right;\">\n",
       "      <th></th>\n",
       "      <th>date</th>\n",
       "    </tr>\n",
       "  </thead>\n",
       "  <tbody>\n",
       "    <tr>\n",
       "      <th>min</th>\n",
       "      <td>2013-01-01</td>\n",
       "    </tr>\n",
       "    <tr>\n",
       "      <th>max</th>\n",
       "      <td>2015-12-10</td>\n",
       "    </tr>\n",
       "  </tbody>\n",
       "</table>\n",
       "</div>"
      ],
      "text/plain": [
       "          date\n",
       "min 2013-01-01\n",
       "max 2015-12-10"
      ]
     },
     "execution_count": 4,
     "metadata": {},
     "output_type": "execute_result"
    }
   ],
   "source": [
    "train_all_time.agg({'date': ['min', 'max']})"
   ]
  },
  {
   "cell_type": "code",
   "execution_count": 5,
   "metadata": {},
   "outputs": [
    {
     "data": {
      "text/plain": [
       "5.664616599898437"
      ]
     },
     "execution_count": 5,
     "metadata": {},
     "output_type": "execute_result"
    }
   ],
   "source": [
    "test = pd.read_csv('raw/test.csv')\n",
    "\n",
    "def single_fold(train_all_time, forecast_start, forecast_length_days):\n",
    "    id_cols = ['item_id', 'shop_id']\n",
    "\n",
    "    forecast_end = forecast_start + timedelta(days = forecast_length_days)\n",
    "    forecast_target_raw = train_all_time.query('date >= @forecast_start and date <= @forecast_end')\n",
    "    forecast_target_mo = (forecast_target_raw\n",
    "        .groupby(id_cols, as_index=False)\n",
    "        .agg({'item_cnt_day': 'sum'})\n",
    "        .rename({'item_cnt_day': 'item_cnt_month'}, axis=1)\n",
    "    )\n",
    "\n",
    "    forecast_target_mo = (test\n",
    "                          .merge(forecast_target_mo, on=id_cols, how='left')\n",
    "                          .fillna(0)\n",
    "                         )\n",
    "\n",
    "    train_start = train_all_time.query('date < @forecast_start')\n",
    "\n",
    "    predicted_mo = forecast_last_average(\n",
    "        train_start,\n",
    "        forecast_month_length=30,\n",
    "        train_interval_len=30,\n",
    "        target_forecast_start=forecast_start\n",
    "    )\n",
    "\n",
    "    # TODO: should be part of what's predicted by the func\n",
    "    predicted_mo['item_cnt_month'] = predicted_mo['item_cnt_month'].clip(0, 20)\n",
    "    forecast_target_mo['item_cnt_month'] = forecast_target_mo['item_cnt_month'].clip(0, 20)\n",
    "    from sklearn.metrics import mean_squared_error \n",
    "    diff = (forecast_target_mo\n",
    "        .merge(predicted_mo, on=id_cols, suffixes=('_target', '_predicted'))\n",
    "    )\n",
    "    rmse = mean_squared_error(diff['item_cnt_month_target'], diff['item_cnt_month_predicted'])\n",
    "    return rmse\n",
    "\n",
    "single_fold(train_all_time,\n",
    "           forecast_start=pd.to_datetime('2014-06-01'),\n",
    "           forecast_length_days=30)"
   ]
  },
  {
   "cell_type": "code",
   "execution_count": 6,
   "metadata": {},
   "outputs": [],
   "source": [
    "target_forecast_start = pd.to_datetime('2015-11-01')\n",
    "forecast_length_days = 30\n",
    "\n",
    "fold_rmses = []\n",
    "fold_forecast_starts = []\n",
    "n_folds = 10\n",
    "fold_shift_days = 40\n",
    "for delta in range(1, 1+n_folds):\n",
    "    forecast_start = target_forecast_start - timedelta(days=delta*fold_shift_days)\n",
    "    rmse = single_fold(train_all_time,\n",
    "           forecast_start=forecast_start,\n",
    "           forecast_length_days=30)\n",
    "    fold_rmses.append(rmse)\n",
    "    fold_forecast_starts.append(forecast_start)"
   ]
  },
  {
   "cell_type": "code",
   "execution_count": 7,
   "metadata": {
    "scrolled": true
   },
   "outputs": [
    {
     "data": {
      "text/plain": [
       "[4.004057726907323,\n",
       " 3.7755710809325693,\n",
       " 3.776356558353857,\n",
       " 3.9762894468951475,\n",
       " 4.486619199607169,\n",
       " 4.632950990615224,\n",
       " 5.152054566627849,\n",
       " 7.792788503159899,\n",
       " 6.659770352746457,\n",
       " 4.452070885041622]"
      ]
     },
     "execution_count": 7,
     "metadata": {},
     "output_type": "execute_result"
    }
   ],
   "source": [
    "fold_rmses"
   ]
  },
  {
   "cell_type": "code",
   "execution_count": 8,
   "metadata": {},
   "outputs": [
    {
     "data": {
      "text/plain": [
       "4.870852931088711"
      ]
     },
     "execution_count": 8,
     "metadata": {},
     "output_type": "execute_result"
    }
   ],
   "source": [
    "# 33.44 doesn't square well with LB of 8 or like 11\n",
    "# 7.26 after clipping is mucho closero\n",
    "# 10 folds x 20 days was closer (8.02) and faster than 20 folds x 10 days (7.97)\n",
    "# LB also downed to 1.13 as a result of clipping :/\n",
    "sum(fold_rmses) / len(fold_rmses)"
   ]
  },
  {
   "cell_type": "code",
   "execution_count": 9,
   "metadata": {},
   "outputs": [],
   "source": [
    "from sklearn.base import RegressorMixin"
   ]
  },
  {
   "cell_type": "code",
   "execution_count": 10,
   "metadata": {},
   "outputs": [],
   "source": [
    "RegressorMixin??"
   ]
  },
  {
   "cell_type": "code",
   "execution_count": 11,
   "metadata": {},
   "outputs": [],
   "source": [
    "class ForecastLastAverage(RegressorMixin):\n",
    "    def fit(self, X, y):\n",
    "        self.train_interval_len_days = (X['date'].max() - X['date'].min()).days\n",
    "        forecast = (X\n",
    "            .groupby(['item_id', 'shop_id'],\n",
    "                    as_index=False)\n",
    "            .agg({'item_cnt_day': ['sum', 'count'],\n",
    "                  'date': ['min', 'max']})\n",
    "        )\n",
    "        forecast['sale_days'] = (forecast['date']['max']-forecast['date']['min']).dt.days + 1\n",
    "        forecast['avg_daily_sale_items'] = forecast['item_cnt_day']['sum'] / self.train_interval_len_days\n",
    "        self.forecast = forecast[['item_id', 'shop_id', 'avg_daily_sale_items']].droplevel(1, axis=1)\n",
    "        self.na_forecast = 0\n",
    "        return self\n",
    "\n",
    "    def predict(self, X):\n",
    "        return (X\n",
    "                .merge(self.forecast, how='left', on=['item_id', 'shop_id'])\n",
    "                .fillna(0))\n",
    "\n",
    "    def transform(self, X):\n",
    "        return self.predict(X)"
   ]
  },
  {
   "cell_type": "code",
   "execution_count": 12,
   "metadata": {},
   "outputs": [
    {
     "data": {
      "text/html": [
       "<div>\n",
       "<style scoped>\n",
       "    .dataframe tbody tr th:only-of-type {\n",
       "        vertical-align: middle;\n",
       "    }\n",
       "\n",
       "    .dataframe tbody tr th {\n",
       "        vertical-align: top;\n",
       "    }\n",
       "\n",
       "    .dataframe thead th {\n",
       "        text-align: right;\n",
       "    }\n",
       "</style>\n",
       "<table border=\"1\" class=\"dataframe\">\n",
       "  <thead>\n",
       "    <tr style=\"text-align: right;\">\n",
       "      <th></th>\n",
       "      <th>date</th>\n",
       "      <th>item_id</th>\n",
       "      <th>shop_id</th>\n",
       "      <th>avg_daily_sale_items</th>\n",
       "    </tr>\n",
       "  </thead>\n",
       "  <tbody>\n",
       "    <tr>\n",
       "      <th>0</th>\n",
       "      <td>2010-02-06</td>\n",
       "      <td>3</td>\n",
       "      <td>1</td>\n",
       "      <td>0.6</td>\n",
       "    </tr>\n",
       "    <tr>\n",
       "      <th>1</th>\n",
       "      <td>2010-02-06</td>\n",
       "      <td>2</td>\n",
       "      <td>1</td>\n",
       "      <td>0.2</td>\n",
       "    </tr>\n",
       "    <tr>\n",
       "      <th>2</th>\n",
       "      <td>2010-02-06</td>\n",
       "      <td>1</td>\n",
       "      <td>3</td>\n",
       "      <td>0.0</td>\n",
       "    </tr>\n",
       "    <tr>\n",
       "      <th>3</th>\n",
       "      <td>2010-02-07</td>\n",
       "      <td>3</td>\n",
       "      <td>1</td>\n",
       "      <td>0.6</td>\n",
       "    </tr>\n",
       "    <tr>\n",
       "      <th>4</th>\n",
       "      <td>2010-03-07</td>\n",
       "      <td>3</td>\n",
       "      <td>1</td>\n",
       "      <td>0.6</td>\n",
       "    </tr>\n",
       "  </tbody>\n",
       "</table>\n",
       "</div>"
      ],
      "text/plain": [
       "         date  item_id  shop_id  avg_daily_sale_items\n",
       "0  2010-02-06        3        1                   0.6\n",
       "1  2010-02-06        2        1                   0.2\n",
       "2  2010-02-06        1        3                   0.0\n",
       "3  2010-02-07        3        1                   0.6\n",
       "4  2010-03-07        3        1                   0.6"
      ]
     },
     "execution_count": 12,
     "metadata": {},
     "output_type": "execute_result"
    }
   ],
   "source": [
    "example = pd.DataFrame(\n",
    "    columns=['date', 'item_id', 'shop_id', 'item_cnt_day'],\n",
    "    data=[\n",
    "        ['2010-01-01', 1, 1, 2],\n",
    "        ['2010-01-01', 1, 2, 3],\n",
    "        ['2010-01-01', 2, 1, 1],\n",
    "        ['2010-01-01', 3, 1, 1],\n",
    "        ['2010-01-06', 3, 1, 2],\n",
    "    ]\n",
    ")\n",
    "\n",
    "example_test = pd.DataFrame(\n",
    "    columns=['date', 'item_id', 'shop_id'],\n",
    "    data=[\n",
    "        ['2010-02-06', 3, 1],\n",
    "        ['2010-02-06', 2, 1],\n",
    "        ['2010-02-06', 1, 3],\n",
    "        ['2010-02-07', 3, 1],\n",
    "        ['2010-03-07', 3, 1],\n",
    "    ]\n",
    ")\n",
    "\n",
    "example['date'] = pd.to_datetime(example['date'])\n",
    "reg = ForecastLastAverage()\n",
    "reg.fit(example, example['item_cnt_day'])\n",
    "predicted_daily = reg.predict(example_test)\n",
    "predicted_daily"
   ]
  },
  {
   "cell_type": "code",
   "execution_count": 13,
   "metadata": {},
   "outputs": [],
   "source": [
    "# aggs in transformers is a deviation from intended use by virtue of being sample size changing transform\n",
    "# https://github.com/scikit-learn/scikit-learn/issues/3855\n",
    "# https://github.com/scikit-learn/scikit-learn/issues/4143\n",
    "# https://scikit-learn-enhancement-proposals.readthedocs.io/en/latest/slep001/proposal.html#slep001-transformers-that-modify-their-target\n",
    "# Note to self: native model might be to introduce new aggregated features into the data set rather than sampling\n",
    "# Also: Pipelines only transform the observed data (X).\n",
    "from sklearn.base import TransformerMixin, BaseEstimator\n",
    "class MonthlyAggregation(TransformerMixin, BaseEstimator):\n",
    "    def fit(self, X, y=None):\n",
    "        return self\n",
    "\n",
    "    def transform(self, X):\n",
    "        tmp = X.copy()\n",
    "        tmp['date'] = pd.to_datetime(tmp['date'])\n",
    "        tmp['year_month'] = tmp['date'].dt.strftime('%Y-%m')\n",
    "        return (tmp.groupby(\n",
    "            ['item_id', 'shop_id', 'year_month'], as_index=False)\n",
    "            .agg({'avg_daily_sale_items': 'sum'})\n",
    "            .rename({'avg_daily_sale_items': 'item_cnt_month'}, axis=1)\n",
    "        )\n",
    "    def predict(self, X):\n",
    "        return self.transform(X)"
   ]
  },
  {
   "cell_type": "code",
   "execution_count": 14,
   "metadata": {},
   "outputs": [
    {
     "data": {
      "text/html": [
       "<div>\n",
       "<style scoped>\n",
       "    .dataframe tbody tr th:only-of-type {\n",
       "        vertical-align: middle;\n",
       "    }\n",
       "\n",
       "    .dataframe tbody tr th {\n",
       "        vertical-align: top;\n",
       "    }\n",
       "\n",
       "    .dataframe thead th {\n",
       "        text-align: right;\n",
       "    }\n",
       "</style>\n",
       "<table border=\"1\" class=\"dataframe\">\n",
       "  <thead>\n",
       "    <tr style=\"text-align: right;\">\n",
       "      <th></th>\n",
       "      <th>item_id</th>\n",
       "      <th>shop_id</th>\n",
       "      <th>year_month</th>\n",
       "      <th>item_cnt_month</th>\n",
       "    </tr>\n",
       "  </thead>\n",
       "  <tbody>\n",
       "    <tr>\n",
       "      <th>0</th>\n",
       "      <td>1</td>\n",
       "      <td>3</td>\n",
       "      <td>2010-02</td>\n",
       "      <td>0.0</td>\n",
       "    </tr>\n",
       "    <tr>\n",
       "      <th>1</th>\n",
       "      <td>2</td>\n",
       "      <td>1</td>\n",
       "      <td>2010-02</td>\n",
       "      <td>0.2</td>\n",
       "    </tr>\n",
       "    <tr>\n",
       "      <th>2</th>\n",
       "      <td>3</td>\n",
       "      <td>1</td>\n",
       "      <td>2010-02</td>\n",
       "      <td>1.2</td>\n",
       "    </tr>\n",
       "    <tr>\n",
       "      <th>3</th>\n",
       "      <td>3</td>\n",
       "      <td>1</td>\n",
       "      <td>2010-03</td>\n",
       "      <td>0.6</td>\n",
       "    </tr>\n",
       "  </tbody>\n",
       "</table>\n",
       "</div>"
      ],
      "text/plain": [
       "   item_id  shop_id year_month  item_cnt_month\n",
       "0        1        3    2010-02             0.0\n",
       "1        2        1    2010-02             0.2\n",
       "2        3        1    2010-02             1.2\n",
       "3        3        1    2010-03             0.6"
      ]
     },
     "execution_count": 14,
     "metadata": {},
     "output_type": "execute_result"
    }
   ],
   "source": [
    "monthly_agg = MonthlyAggregation()\n",
    "monthly_agg.fit_transform(predicted_daily)"
   ]
  },
  {
   "cell_type": "code",
   "execution_count": 15,
   "metadata": {},
   "outputs": [
    {
     "data": {
      "text/plain": [
       "Pipeline(steps=[('forecastlastaverage',\n",
       "                 <__main__.ForecastLastAverage object at 0x7f84cb46ea00>),\n",
       "                ('monthlyaggregation', MonthlyAggregation())])"
      ]
     },
     "execution_count": 15,
     "metadata": {},
     "output_type": "execute_result"
    }
   ],
   "source": [
    "from sklearn.pipeline import Pipeline\n",
    "from sklearn.pipeline import make_pipeline\n",
    "pipe = make_pipeline(\n",
    "    ForecastLastAverage(),\n",
    "    MonthlyAggregation()\n",
    ")\n",
    "pipe.fit(example, example['item_cnt_day'])"
   ]
  },
  {
   "cell_type": "code",
   "execution_count": 16,
   "metadata": {
    "scrolled": true
   },
   "outputs": [
    {
     "data": {
      "text/html": [
       "<div>\n",
       "<style scoped>\n",
       "    .dataframe tbody tr th:only-of-type {\n",
       "        vertical-align: middle;\n",
       "    }\n",
       "\n",
       "    .dataframe tbody tr th {\n",
       "        vertical-align: top;\n",
       "    }\n",
       "\n",
       "    .dataframe thead th {\n",
       "        text-align: right;\n",
       "    }\n",
       "</style>\n",
       "<table border=\"1\" class=\"dataframe\">\n",
       "  <thead>\n",
       "    <tr style=\"text-align: right;\">\n",
       "      <th></th>\n",
       "      <th>item_id</th>\n",
       "      <th>shop_id</th>\n",
       "      <th>year_month</th>\n",
       "      <th>item_cnt_month</th>\n",
       "    </tr>\n",
       "  </thead>\n",
       "  <tbody>\n",
       "    <tr>\n",
       "      <th>0</th>\n",
       "      <td>1</td>\n",
       "      <td>3</td>\n",
       "      <td>2010-02</td>\n",
       "      <td>0.0</td>\n",
       "    </tr>\n",
       "    <tr>\n",
       "      <th>1</th>\n",
       "      <td>2</td>\n",
       "      <td>1</td>\n",
       "      <td>2010-02</td>\n",
       "      <td>0.2</td>\n",
       "    </tr>\n",
       "    <tr>\n",
       "      <th>2</th>\n",
       "      <td>3</td>\n",
       "      <td>1</td>\n",
       "      <td>2010-02</td>\n",
       "      <td>1.2</td>\n",
       "    </tr>\n",
       "    <tr>\n",
       "      <th>3</th>\n",
       "      <td>3</td>\n",
       "      <td>1</td>\n",
       "      <td>2010-03</td>\n",
       "      <td>0.6</td>\n",
       "    </tr>\n",
       "  </tbody>\n",
       "</table>\n",
       "</div>"
      ],
      "text/plain": [
       "   item_id  shop_id year_month  item_cnt_month\n",
       "0        1        3    2010-02             0.0\n",
       "1        2        1    2010-02             0.2\n",
       "2        3        1    2010-02             1.2\n",
       "3        3        1    2010-03             0.6"
      ]
     },
     "execution_count": 16,
     "metadata": {},
     "output_type": "execute_result"
    }
   ],
   "source": [
    "pipe.predict(example_test)"
   ]
  },
  {
   "cell_type": "code",
   "execution_count": 17,
   "metadata": {},
   "outputs": [],
   "source": [
    "categorical_cols = ['item_id', 'shop_id']\n",
    "feature_cols = categorical_cols\n",
    "target_col = 'item_cnt_day'"
   ]
  },
  {
   "cell_type": "code",
   "execution_count": 19,
   "metadata": {},
   "outputs": [
    {
     "data": {
      "text/plain": [
       "array([1.23257084, 1.23454177, 1.23393587, ..., 1.27027749, 1.29737605,\n",
       "       1.16728767])"
      ]
     },
     "execution_count": 19,
     "metadata": {},
     "output_type": "execute_result"
    }
   ],
   "source": [
    "target_forecast_start = pd.to_datetime('2015-11-01')\n",
    "train_no_future = train_all_time.query('date < @target_forecast_start')\n",
    "\n",
    "from sklearn.linear_model import LinearRegression\n",
    "\n",
    "regressor = LinearRegression()\n",
    "regressor.fit(train_all_time[['item_id', 'shop_id']], train_all_time['item_cnt_day'])\n",
    "regressor.predict(test[feature_cols])"
   ]
  },
  {
   "cell_type": "code",
   "execution_count": 20,
   "metadata": {},
   "outputs": [],
   "source": [
    "november_days = [target_forecast_start + timedelta(days=i) for i in range(0, 30)]"
   ]
  },
  {
   "cell_type": "code",
   "execution_count": 21,
   "metadata": {},
   "outputs": [
    {
     "data": {
      "text/html": [
       "<div>\n",
       "<style scoped>\n",
       "    .dataframe tbody tr th:only-of-type {\n",
       "        vertical-align: middle;\n",
       "    }\n",
       "\n",
       "    .dataframe tbody tr th {\n",
       "        vertical-align: top;\n",
       "    }\n",
       "\n",
       "    .dataframe thead th {\n",
       "        text-align: right;\n",
       "    }\n",
       "</style>\n",
       "<table border=\"1\" class=\"dataframe\">\n",
       "  <thead>\n",
       "    <tr style=\"text-align: right;\">\n",
       "      <th></th>\n",
       "      <th>ID</th>\n",
       "      <th>shop_id</th>\n",
       "      <th>item_id</th>\n",
       "      <th>date</th>\n",
       "      <th>item_cnt_day</th>\n",
       "    </tr>\n",
       "  </thead>\n",
       "  <tbody>\n",
       "    <tr>\n",
       "      <th>0</th>\n",
       "      <td>0</td>\n",
       "      <td>5</td>\n",
       "      <td>5037</td>\n",
       "      <td>2015-11-01</td>\n",
       "      <td>1.232571</td>\n",
       "    </tr>\n",
       "    <tr>\n",
       "      <th>1</th>\n",
       "      <td>0</td>\n",
       "      <td>5</td>\n",
       "      <td>5037</td>\n",
       "      <td>2015-11-02</td>\n",
       "      <td>1.232571</td>\n",
       "    </tr>\n",
       "    <tr>\n",
       "      <th>2</th>\n",
       "      <td>0</td>\n",
       "      <td>5</td>\n",
       "      <td>5037</td>\n",
       "      <td>2015-11-03</td>\n",
       "      <td>1.232571</td>\n",
       "    </tr>\n",
       "    <tr>\n",
       "      <th>3</th>\n",
       "      <td>0</td>\n",
       "      <td>5</td>\n",
       "      <td>5037</td>\n",
       "      <td>2015-11-04</td>\n",
       "      <td>1.232571</td>\n",
       "    </tr>\n",
       "    <tr>\n",
       "      <th>4</th>\n",
       "      <td>0</td>\n",
       "      <td>5</td>\n",
       "      <td>5037</td>\n",
       "      <td>2015-11-05</td>\n",
       "      <td>1.232571</td>\n",
       "    </tr>\n",
       "    <tr>\n",
       "      <th>...</th>\n",
       "      <td>...</td>\n",
       "      <td>...</td>\n",
       "      <td>...</td>\n",
       "      <td>...</td>\n",
       "      <td>...</td>\n",
       "    </tr>\n",
       "    <tr>\n",
       "      <th>6425995</th>\n",
       "      <td>214199</td>\n",
       "      <td>45</td>\n",
       "      <td>969</td>\n",
       "      <td>2015-11-26</td>\n",
       "      <td>1.167288</td>\n",
       "    </tr>\n",
       "    <tr>\n",
       "      <th>6425996</th>\n",
       "      <td>214199</td>\n",
       "      <td>45</td>\n",
       "      <td>969</td>\n",
       "      <td>2015-11-27</td>\n",
       "      <td>1.167288</td>\n",
       "    </tr>\n",
       "    <tr>\n",
       "      <th>6425997</th>\n",
       "      <td>214199</td>\n",
       "      <td>45</td>\n",
       "      <td>969</td>\n",
       "      <td>2015-11-28</td>\n",
       "      <td>1.167288</td>\n",
       "    </tr>\n",
       "    <tr>\n",
       "      <th>6425998</th>\n",
       "      <td>214199</td>\n",
       "      <td>45</td>\n",
       "      <td>969</td>\n",
       "      <td>2015-11-29</td>\n",
       "      <td>1.167288</td>\n",
       "    </tr>\n",
       "    <tr>\n",
       "      <th>6425999</th>\n",
       "      <td>214199</td>\n",
       "      <td>45</td>\n",
       "      <td>969</td>\n",
       "      <td>2015-11-30</td>\n",
       "      <td>1.167288</td>\n",
       "    </tr>\n",
       "  </tbody>\n",
       "</table>\n",
       "<p>6426000 rows × 5 columns</p>\n",
       "</div>"
      ],
      "text/plain": [
       "             ID  shop_id  item_id       date  item_cnt_day\n",
       "0             0        5     5037 2015-11-01      1.232571\n",
       "1             0        5     5037 2015-11-02      1.232571\n",
       "2             0        5     5037 2015-11-03      1.232571\n",
       "3             0        5     5037 2015-11-04      1.232571\n",
       "4             0        5     5037 2015-11-05      1.232571\n",
       "...         ...      ...      ...        ...           ...\n",
       "6425995  214199       45      969 2015-11-26      1.167288\n",
       "6425996  214199       45      969 2015-11-27      1.167288\n",
       "6425997  214199       45      969 2015-11-28      1.167288\n",
       "6425998  214199       45      969 2015-11-29      1.167288\n",
       "6425999  214199       45      969 2015-11-30      1.167288\n",
       "\n",
       "[6426000 rows x 5 columns]"
      ]
     },
     "execution_count": 21,
     "metadata": {},
     "output_type": "execute_result"
    }
   ],
   "source": [
    "def cross_join(left, right):\n",
    "    left['_tmp_col'] = 0\n",
    "    right['_tmp_col'] = 0\n",
    "    return left.merge(right, on='_tmp_col').drop(['_tmp_col'], axis=1)\n",
    "\n",
    "test_dates = cross_join(test, pd.DataFrame({'date': november_days}))\n",
    "\n",
    "predicted_daily = test_dates.copy()\n",
    "predicted_daily[target_col] = regressor.predict(test_dates[feature_cols])\n",
    "predicted_daily"
   ]
  },
  {
   "cell_type": "code",
   "execution_count": 22,
   "metadata": {},
   "outputs": [],
   "source": [
    "predicted_mo = (predicted_daily.groupby(\n",
    "        ['item_id', 'shop_id'], as_index=False)\n",
    "        .agg({target_col: 'sum'})\n",
    "        .rename({target_col: 'item_cnt_month'}, axis=1)\n",
    ")"
   ]
  },
  {
   "cell_type": "code",
   "execution_count": 23,
   "metadata": {},
   "outputs": [],
   "source": [
    "submission = forecast_to_submission(predicted_mo)"
   ]
  },
  {
   "cell_type": "code",
   "execution_count": 24,
   "metadata": {},
   "outputs": [],
   "source": [
    "# Score: 37.25347\n",
    "submission.to_csv('submissions/submission_0100_linreg_item_shop.csv', index=False)"
   ]
  },
  {
   "cell_type": "code",
   "execution_count": 25,
   "metadata": {},
   "outputs": [],
   "source": [
    "submission['item_cnt_month'] = submission['item_cnt_month'].clip(0, 20)"
   ]
  },
  {
   "cell_type": "code",
   "execution_count": 26,
   "metadata": {},
   "outputs": [],
   "source": [
    "# Score: 19.75361\n",
    "# item_id and shop_id need to be transformed 🤦‍♀️\n",
    "submission.to_csv('submissions/submission_0101_linreg_item_shop_clipped.csv', index=False)"
   ]
  },
  {
   "cell_type": "code",
   "execution_count": 27,
   "metadata": {},
   "outputs": [
    {
     "data": {
      "text/plain": [
       "76.17766593875596"
      ]
     },
     "execution_count": 27,
     "metadata": {},
     "output_type": "execute_result"
    }
   ],
   "source": [
    "import pandas as pd\n",
    "from sklearn.linear_model import LinearRegression\n",
    "\n",
    "regressor = LinearRegression()\n",
    "\n",
    "test = pd.read_csv('raw/test.csv')\n",
    "def single_fold(regressor, dates_frame, ids_frame, target_frame, forecast_start, forecast_length_days):\n",
    "\n",
    "    from sklearn.preprocessing import OneHotEncoder\n",
    "    onehot_encoder = OneHotEncoder()\n",
    "    categorical_features = onehot_encoder.fit_transform(train_all_time[categorical_cols])    \n",
    "    transformed_features = categorical_features\n",
    "\n",
    "    # split\n",
    "    forecast_end_date = forecast_start + timedelta(days = forecast_length_days)\n",
    "    train_indexes = dates_frame['date'] < forecast_start\n",
    "    test_indexes = (dates_frame['date'] >= forecast_start) & (dates_frame['date'] <= forecast_end_date)\n",
    "\n",
    "    grouper = ids_frame['item_id']*100 + ids_frame['shop_id']\n",
    "    forecast_target_mo = (target_frame\n",
    "        .groupby(grouper, as_index=False)\n",
    "        .agg({target_col: 'sum'})\n",
    "        .rename({target_col: 'item_cnt_month'}, axis=1)\n",
    "    )\n",
    "\n",
    "    train_features = transformed_features[train_indexes]\n",
    "    test_features = transformed_features[test_indexes]\n",
    "\n",
    "    regressor.fit(train_features, target_frame[train_indexes])\n",
    "    predicted_daily = (regressor\n",
    "                       .predict(test_features)\n",
    "                       .squeeze()\n",
    "                      )\n",
    "    predicted_daily = pd.DataFrame({'item_id': ids_frame[test_indexes]['item_id'],\n",
    "                                    'shop_id': ids_frame[test_indexes]['shop_id'],\n",
    "                                    target_col: predicted_daily})\n",
    "    predicted_mo = (predicted_daily.groupby(\n",
    "            ['item_id', 'shop_id'], as_index=False)\n",
    "            .agg({target_col: 'sum'})\n",
    "            .rename({target_col: 'item_cnt_month'}, axis=1)\n",
    "    )\n",
    "\n",
    "    # TODO: should be part of what's predicted by the func? (so e.g. test targets are transformed)\n",
    "    predicted_mo['item_cnt_month'] = predicted_mo['item_cnt_month'].clip(0, 20)\n",
    "    forecast_target_mo['item_cnt_month'] = forecast_target_mo['item_cnt_month'].clip(0, 20)\n",
    "    from sklearn.metrics import mean_squared_error \n",
    "    predicted_mo['item_cnt_month_target'] = forecast_target_mo['item_cnt_month']\n",
    "    rmse = mean_squared_error(predicted_mo['item_cnt_month_target'], predicted_mo['item_cnt_month'])\n",
    "\n",
    "    return rmse\n",
    "\n",
    "id_cols = ['item_id', 'shop_id']\n",
    "dates_frame = train_all_time[['date']]\n",
    "target_frame = train_all_time[['item_cnt_day']]\n",
    "ids_frame = train_all_time[id_cols]\n",
    "\n",
    "single_fold(regressor, dates_frame, ids_frame, target_frame,\n",
    "           forecast_start=pd.to_datetime('2014-06-01'),\n",
    "           forecast_length_days=30)"
   ]
  },
  {
   "cell_type": "code",
   "execution_count": 28,
   "metadata": {},
   "outputs": [],
   "source": [
    "target_forecast_start = pd.to_datetime('2015-11-01')\n",
    "forecast_length_days = 30\n",
    "\n",
    "fold_rmses = []\n",
    "fold_forecast_starts = []\n",
    "n_folds = 3\n",
    "fold_shift_days = 40\n",
    "for delta in range(1, 1+n_folds):\n",
    "    forecast_start = target_forecast_start - timedelta(days=delta*fold_shift_days)\n",
    "    rmse = single_fold(regressor, dates_frame, ids_frame, target_frame,\n",
    "           forecast_start=forecast_start,\n",
    "           forecast_length_days=30)\n",
    "    fold_rmses.append(rmse)\n",
    "    fold_forecast_starts.append(forecast_start)"
   ]
  },
  {
   "cell_type": "code",
   "execution_count": 29,
   "metadata": {},
   "outputs": [
    {
     "data": {
      "text/plain": [
       "71.80618910513881"
      ]
     },
     "execution_count": 29,
     "metadata": {},
     "output_type": "execute_result"
    }
   ],
   "source": [
    "sum(fold_rmses) / len(fold_rmses)"
   ]
  },
  {
   "cell_type": "code",
   "execution_count": 48,
   "metadata": {},
   "outputs": [
    {
     "data": {
      "text/plain": [
       "LinearRegression()"
      ]
     },
     "execution_count": 48,
     "metadata": {},
     "output_type": "execute_result"
    }
   ],
   "source": [
    "target_forecast_start = pd.to_datetime('2015-11-01')\n",
    "train_no_future = train_all_time.query('date < @target_forecast_start')\n",
    "\n",
    "from sklearn.preprocessing import OneHotEncoder\n",
    "onehot_encoder = OneHotEncoder(handle_unknown='ignore')\n",
    "categorical_features = onehot_encoder.fit_transform(train_all_time[categorical_cols])\n",
    "transformed_features = categorical_features\n",
    "\n",
    "test_features = onehot_encoder.transform(test[categorical_cols])\n",
    "regressor.fit(categorical_features, train_all_time['item_cnt_day'])"
   ]
  },
  {
   "cell_type": "code",
   "execution_count": 49,
   "metadata": {},
   "outputs": [],
   "source": [
    "predicted_daily = regressor.predict(test_features)"
   ]
  },
  {
   "cell_type": "code",
   "execution_count": 50,
   "metadata": {},
   "outputs": [],
   "source": [
    "predicted_daily = pd.DataFrame({'item_id': test['item_id'],\n",
    "                                'shop_id': test['shop_id'],\n",
    "                                target_col: predicted_daily})\n",
    "predicted_mo = (predicted_daily.groupby(\n",
    "        ['item_id', 'shop_id'], as_index=False)\n",
    "        .agg({target_col: 'sum'})\n",
    "        .rename({target_col: 'item_cnt_month'}, axis=1)\n",
    ")\n",
    "submission = forecast_to_submission(predicted_mo)"
   ]
  },
  {
   "cell_type": "code",
   "execution_count": 52,
   "metadata": {},
   "outputs": [
    {
     "data": {
      "text/html": [
       "<div>\n",
       "<style scoped>\n",
       "    .dataframe tbody tr th:only-of-type {\n",
       "        vertical-align: middle;\n",
       "    }\n",
       "\n",
       "    .dataframe tbody tr th {\n",
       "        vertical-align: top;\n",
       "    }\n",
       "\n",
       "    .dataframe thead th {\n",
       "        text-align: right;\n",
       "    }\n",
       "</style>\n",
       "<table border=\"1\" class=\"dataframe\">\n",
       "  <thead>\n",
       "    <tr style=\"text-align: right;\">\n",
       "      <th></th>\n",
       "      <th>ID</th>\n",
       "      <th>item_cnt_month</th>\n",
       "    </tr>\n",
       "  </thead>\n",
       "  <tbody>\n",
       "    <tr>\n",
       "      <th>4643</th>\n",
       "      <td>4643</td>\n",
       "      <td>41.984467</td>\n",
       "    </tr>\n",
       "    <tr>\n",
       "      <th>4645</th>\n",
       "      <td>4645</td>\n",
       "      <td>33.984325</td>\n",
       "    </tr>\n",
       "    <tr>\n",
       "      <th>9743</th>\n",
       "      <td>9743</td>\n",
       "      <td>42.011278</td>\n",
       "    </tr>\n",
       "    <tr>\n",
       "      <th>9745</th>\n",
       "      <td>9745</td>\n",
       "      <td>34.011137</td>\n",
       "    </tr>\n",
       "    <tr>\n",
       "      <th>14843</th>\n",
       "      <td>14843</td>\n",
       "      <td>42.150298</td>\n",
       "    </tr>\n",
       "    <tr>\n",
       "      <th>...</th>\n",
       "      <td>...</td>\n",
       "      <td>...</td>\n",
       "    </tr>\n",
       "    <tr>\n",
       "      <th>203545</th>\n",
       "      <td>203545</td>\n",
       "      <td>34.035230</td>\n",
       "    </tr>\n",
       "    <tr>\n",
       "      <th>208643</th>\n",
       "      <td>208643</td>\n",
       "      <td>41.963768</td>\n",
       "    </tr>\n",
       "    <tr>\n",
       "      <th>208645</th>\n",
       "      <td>208645</td>\n",
       "      <td>33.963627</td>\n",
       "    </tr>\n",
       "    <tr>\n",
       "      <th>213743</th>\n",
       "      <td>213743</td>\n",
       "      <td>42.045088</td>\n",
       "    </tr>\n",
       "    <tr>\n",
       "      <th>213745</th>\n",
       "      <td>213745</td>\n",
       "      <td>34.044947</td>\n",
       "    </tr>\n",
       "  </tbody>\n",
       "</table>\n",
       "<p>84 rows × 2 columns</p>\n",
       "</div>"
      ],
      "text/plain": [
       "            ID  item_cnt_month\n",
       "4643      4643       41.984467\n",
       "4645      4645       33.984325\n",
       "9743      9743       42.011278\n",
       "9745      9745       34.011137\n",
       "14843    14843       42.150298\n",
       "...        ...             ...\n",
       "203545  203545       34.035230\n",
       "208643  208643       41.963768\n",
       "208645  208645       33.963627\n",
       "213743  213743       42.045088\n",
       "213745  213745       34.044947\n",
       "\n",
       "[84 rows x 2 columns]"
      ]
     },
     "execution_count": 52,
     "metadata": {},
     "output_type": "execute_result"
    }
   ],
   "source": [
    "submission.query('item_cnt_month >= 20')"
   ]
  },
  {
   "cell_type": "code",
   "execution_count": 53,
   "metadata": {},
   "outputs": [],
   "source": [
    "submission['item_cnt_month'] =submission['item_cnt_month'].clip(0, 20)\n",
    "submission.to_csv('submissions/submission_0102_linreg_item_shop_clipped.csv', index=False)"
   ]
  },
  {
   "cell_type": "code",
   "execution_count": null,
   "metadata": {},
   "outputs": [],
   "source": []
  }
 ],
 "metadata": {
  "kernelspec": {
   "display_name": "Python 3",
   "language": "python",
   "name": "python3"
  },
  "language_info": {
   "codemirror_mode": {
    "name": "ipython",
    "version": 3
   },
   "file_extension": ".py",
   "mimetype": "text/x-python",
   "name": "python",
   "nbconvert_exporter": "python",
   "pygments_lexer": "ipython3",
   "version": "3.8.2"
  }
 },
 "nbformat": 4,
 "nbformat_minor": 4
}
