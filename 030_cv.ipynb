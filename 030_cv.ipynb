{
 "cells": [
  {
   "cell_type": "code",
   "execution_count": 1,
   "metadata": {},
   "outputs": [],
   "source": [
    "%matplotlib inline\n",
    "%load_ext autoreload\n",
    "%autoreload 2"
   ]
  },
  {
   "cell_type": "code",
   "execution_count": 2,
   "metadata": {},
   "outputs": [],
   "source": [
    "# export\n",
    "import pandas as pd\n",
    "import numpy as np\n",
    "from datetime import timedelta"
   ]
  },
  {
   "cell_type": "code",
   "execution_count": 3,
   "metadata": {},
   "outputs": [
    {
     "data": {
      "text/html": [
       "<div>\n",
       "<style scoped>\n",
       "    .dataframe tbody tr th:only-of-type {\n",
       "        vertical-align: middle;\n",
       "    }\n",
       "\n",
       "    .dataframe tbody tr th {\n",
       "        vertical-align: top;\n",
       "    }\n",
       "\n",
       "    .dataframe thead th {\n",
       "        text-align: right;\n",
       "    }\n",
       "</style>\n",
       "<table border=\"1\" class=\"dataframe\">\n",
       "  <thead>\n",
       "    <tr style=\"text-align: right;\">\n",
       "      <th></th>\n",
       "      <th>date</th>\n",
       "      <th>date_block_num</th>\n",
       "      <th>shop_id</th>\n",
       "      <th>item_id</th>\n",
       "      <th>item_price</th>\n",
       "      <th>item_cnt_day</th>\n",
       "    </tr>\n",
       "  </thead>\n",
       "  <tbody>\n",
       "    <tr>\n",
       "      <th>0</th>\n",
       "      <td>2013-02-01</td>\n",
       "      <td>0</td>\n",
       "      <td>59</td>\n",
       "      <td>22154</td>\n",
       "      <td>999.0</td>\n",
       "      <td>1.0</td>\n",
       "    </tr>\n",
       "    <tr>\n",
       "      <th>1</th>\n",
       "      <td>2013-03-01</td>\n",
       "      <td>0</td>\n",
       "      <td>25</td>\n",
       "      <td>2552</td>\n",
       "      <td>899.0</td>\n",
       "      <td>1.0</td>\n",
       "    </tr>\n",
       "  </tbody>\n",
       "</table>\n",
       "</div>"
      ],
      "text/plain": [
       "        date  date_block_num  shop_id  item_id  item_price  item_cnt_day\n",
       "0 2013-02-01               0       59    22154       999.0           1.0\n",
       "1 2013-03-01               0       25     2552       899.0           1.0"
      ]
     },
     "execution_count": 3,
     "metadata": {},
     "output_type": "execute_result"
    }
   ],
   "source": [
    "from kaggle_1c_predict_future_sales.trivial_predict import read_train, forecast_last_average\n",
    "\n",
    "train_all_time = read_train()\n",
    "train_all_time.head(2)"
   ]
  },
  {
   "cell_type": "code",
   "execution_count": 4,
   "metadata": {},
   "outputs": [
    {
     "data": {
      "text/html": [
       "<div>\n",
       "<style scoped>\n",
       "    .dataframe tbody tr th:only-of-type {\n",
       "        vertical-align: middle;\n",
       "    }\n",
       "\n",
       "    .dataframe tbody tr th {\n",
       "        vertical-align: top;\n",
       "    }\n",
       "\n",
       "    .dataframe thead th {\n",
       "        text-align: right;\n",
       "    }\n",
       "</style>\n",
       "<table border=\"1\" class=\"dataframe\">\n",
       "  <thead>\n",
       "    <tr style=\"text-align: right;\">\n",
       "      <th></th>\n",
       "      <th>date</th>\n",
       "    </tr>\n",
       "  </thead>\n",
       "  <tbody>\n",
       "    <tr>\n",
       "      <th>min</th>\n",
       "      <td>2013-01-01</td>\n",
       "    </tr>\n",
       "    <tr>\n",
       "      <th>max</th>\n",
       "      <td>2015-12-10</td>\n",
       "    </tr>\n",
       "  </tbody>\n",
       "</table>\n",
       "</div>"
      ],
      "text/plain": [
       "          date\n",
       "min 2013-01-01\n",
       "max 2015-12-10"
      ]
     },
     "execution_count": 4,
     "metadata": {},
     "output_type": "execute_result"
    }
   ],
   "source": [
    "train_all_time.agg({'date': ['min', 'max']})"
   ]
  },
  {
   "cell_type": "code",
   "execution_count": 63,
   "metadata": {},
   "outputs": [
    {
     "data": {
      "text/plain": [
       "5.664616599898437"
      ]
     },
     "execution_count": 63,
     "metadata": {},
     "output_type": "execute_result"
    }
   ],
   "source": [
    "test = pd.read_csv('raw/test.csv')\n",
    "\n",
    "def single_fold(train_all_time, forecast_start, forecast_length_days):\n",
    "    id_cols = ['item_id', 'shop_id']\n",
    "\n",
    "    forecast_target_raw = train_all_time.query('date >= @forecast_start and date <= @forecast_end')\n",
    "    forecast_target_mo = (forecast_target_raw\n",
    "        .groupby(id_cols, as_index=False)\n",
    "        .agg({'item_cnt_day': 'sum'})\n",
    "        .rename({'item_cnt_day': 'item_cnt_month'}, axis=1)\n",
    "    )\n",
    "\n",
    "    forecast_target_mo = (test\n",
    "                          .merge(forecast_target_mo, on=id_cols, how='left')\n",
    "                          .fillna(0)\n",
    "                         )\n",
    "\n",
    "    train_start = train_all_time.query('date < @forecast_start')\n",
    "\n",
    "    predicted_mo = forecast_last_average(\n",
    "        train_start,\n",
    "        forecast_month_length=30,\n",
    "        train_interval_len=30,\n",
    "        target_forecast_start=forecast_start\n",
    "    )\n",
    "\n",
    "    predicted_mo['item_cnt_month'] = predicted_mo['item_cnt_month'].clip(0, 20)\n",
    "    forecast_target_mo['item_cnt_month'] = forecast_target_mo['item_cnt_month'].clip(0, 20)\n",
    "    from sklearn.metrics import mean_squared_error \n",
    "    diff = (forecast_target_mo\n",
    "        .merge(predicted_mo, on=id_cols, suffixes=('_target', '_predicted'))\n",
    "    )\n",
    "    rmse = mean_squared_error(diff['item_cnt_month_target'], diff['item_cnt_month_predicted'])\n",
    "    return rmse\n",
    "\n",
    "single_fold(train_all_time,\n",
    "           forecast_start=pd.to_datetime('2014-06-01'),\n",
    "           forecast_length_days=30)"
   ]
  },
  {
   "cell_type": "code",
   "execution_count": 79,
   "metadata": {},
   "outputs": [],
   "source": [
    "target_forecast_start = pd.to_datetime('2015-11-01')\n",
    "forecast_length_days = 30\n",
    "\n",
    "fold_rmses = []\n",
    "fold_forecast_starts = []\n",
    "n_folds = 10\n",
    "fold_shift_days = 30\n",
    "for delta in range(1, 1+n_folds):\n",
    "    forecast_start = target_forecast_start - timedelta(days=delta*fold_shift_days)\n",
    "    rmse = single_fold(train_all_time,\n",
    "           forecast_start=forecast_start,\n",
    "           forecast_length_days=30)\n",
    "    fold_rmses.append(rmse)\n",
    "    fold_forecast_starts.append(forecast_start)"
   ]
  },
  {
   "cell_type": "code",
   "execution_count": 80,
   "metadata": {
    "scrolled": true
   },
   "outputs": [
    {
     "data": {
      "text/plain": [
       "[7.832448441506845,\n",
       " 6.696074651037248,\n",
       " 8.794150731158606,\n",
       " 9.206318029298632,\n",
       " 8.553117826365108,\n",
       " 17.32010097822657,\n",
       " 11.44927746363153,\n",
       " 11.494969613400746,\n",
       " 9.83613969441846,\n",
       " 7.348355858252634]"
      ]
     },
     "execution_count": 80,
     "metadata": {},
     "output_type": "execute_result"
    }
   ],
   "source": [
    "fold_rmses"
   ]
  },
  {
   "cell_type": "code",
   "execution_count": 81,
   "metadata": {},
   "outputs": [
    {
     "data": {
      "text/plain": [
       "9.853095328729637"
      ]
     },
     "execution_count": 81,
     "metadata": {},
     "output_type": "execute_result"
    }
   ],
   "source": [
    "# 33.44 doesn't square well with LB of 8 or like 11\n",
    "# 7.26 after clipping is mucho closero\n",
    "# 10 folds x 20 days was closer (8.02) and faster than 20 folds x 10 days (7.97)\n",
    "sum(fold_rmses) / len(fold_rmses)"
   ]
  },
  {
   "cell_type": "code",
   "execution_count": null,
   "metadata": {},
   "outputs": [],
   "source": []
  },
  {
   "cell_type": "code",
   "execution_count": null,
   "metadata": {},
   "outputs": [],
   "source": []
  }
 ],
 "metadata": {
  "kernelspec": {
   "display_name": "Python 3",
   "language": "python",
   "name": "python3"
  },
  "language_info": {
   "codemirror_mode": {
    "name": "ipython",
    "version": 3
   },
   "file_extension": ".py",
   "mimetype": "text/x-python",
   "name": "python",
   "nbconvert_exporter": "python",
   "pygments_lexer": "ipython3",
   "version": "3.8.2"
  }
 },
 "nbformat": 4,
 "nbformat_minor": 4
}
