{
 "cells": [
  {
   "cell_type": "code",
   "execution_count": 1,
   "metadata": {},
   "outputs": [],
   "source": [
    "%matplotlib inline\n",
    "%load_ext autoreload\n",
    "%autoreload 2"
   ]
  },
  {
   "cell_type": "code",
   "execution_count": 2,
   "metadata": {},
   "outputs": [],
   "source": [
    "# export\n",
    "import pandas as pd\n",
    "import numpy as np\n",
    "from datetime import timedelta"
   ]
  },
  {
   "cell_type": "code",
   "execution_count": 3,
   "metadata": {},
   "outputs": [],
   "source": [
    "target_forecast_start = pd.to_datetime('2015-11-01')\n",
    "forecast_length_days = 30"
   ]
  },
  {
   "cell_type": "code",
   "execution_count": 4,
   "metadata": {},
   "outputs": [
    {
     "data": {
      "text/html": [
       "<div>\n",
       "<style scoped>\n",
       "    .dataframe tbody tr th:only-of-type {\n",
       "        vertical-align: middle;\n",
       "    }\n",
       "\n",
       "    .dataframe tbody tr th {\n",
       "        vertical-align: top;\n",
       "    }\n",
       "\n",
       "    .dataframe thead th {\n",
       "        text-align: right;\n",
       "    }\n",
       "</style>\n",
       "<table border=\"1\" class=\"dataframe\">\n",
       "  <thead>\n",
       "    <tr style=\"text-align: right;\">\n",
       "      <th></th>\n",
       "      <th>date</th>\n",
       "      <th>date_block_num</th>\n",
       "      <th>shop_id</th>\n",
       "      <th>item_id</th>\n",
       "      <th>item_price</th>\n",
       "      <th>item_cnt_day</th>\n",
       "    </tr>\n",
       "  </thead>\n",
       "  <tbody>\n",
       "    <tr>\n",
       "      <th>655</th>\n",
       "      <td>2013-01-27</td>\n",
       "      <td>0</td>\n",
       "      <td>25</td>\n",
       "      <td>1119</td>\n",
       "      <td>399.0</td>\n",
       "      <td>1.0</td>\n",
       "    </tr>\n",
       "    <tr>\n",
       "      <th>1774</th>\n",
       "      <td>2013-03-01</td>\n",
       "      <td>0</td>\n",
       "      <td>25</td>\n",
       "      <td>4039</td>\n",
       "      <td>249.0</td>\n",
       "      <td>1.0</td>\n",
       "    </tr>\n",
       "  </tbody>\n",
       "</table>\n",
       "</div>"
      ],
      "text/plain": [
       "           date  date_block_num  shop_id  item_id  item_price  item_cnt_day\n",
       "655  2013-01-27               0       25     1119       399.0           1.0\n",
       "1774 2013-03-01               0       25     4039       249.0           1.0"
      ]
     },
     "execution_count": 4,
     "metadata": {},
     "output_type": "execute_result"
    }
   ],
   "source": [
    "from kaggle_1c_predict_future_sales.trivial_predict import read_train, forecast_last_average, forecast_to_submission\n",
    "\n",
    "sample_all_time = read_train(n_sample_items=131, sample_random_state=42)\n",
    "sample_all_time.head(2)"
   ]
  },
  {
   "cell_type": "code",
   "execution_count": 5,
   "metadata": {},
   "outputs": [
    {
     "data": {
      "text/plain": [
       "22274"
      ]
     },
     "execution_count": 5,
     "metadata": {},
     "output_type": "execute_result"
    }
   ],
   "source": [
    "# vs 2935849\n",
    "len(sample_all_time)"
   ]
  },
  {
   "cell_type": "code",
   "execution_count": 6,
   "metadata": {},
   "outputs": [
    {
     "data": {
      "text/html": [
       "<div>\n",
       "<style scoped>\n",
       "    .dataframe tbody tr th:only-of-type {\n",
       "        vertical-align: middle;\n",
       "    }\n",
       "\n",
       "    .dataframe tbody tr th {\n",
       "        vertical-align: top;\n",
       "    }\n",
       "\n",
       "    .dataframe thead th {\n",
       "        text-align: right;\n",
       "    }\n",
       "</style>\n",
       "<table border=\"1\" class=\"dataframe\">\n",
       "  <thead>\n",
       "    <tr style=\"text-align: right;\">\n",
       "      <th></th>\n",
       "      <th>date</th>\n",
       "    </tr>\n",
       "  </thead>\n",
       "  <tbody>\n",
       "    <tr>\n",
       "      <th>min</th>\n",
       "      <td>2013-01-01</td>\n",
       "    </tr>\n",
       "    <tr>\n",
       "      <th>max</th>\n",
       "      <td>2015-12-10</td>\n",
       "    </tr>\n",
       "  </tbody>\n",
       "</table>\n",
       "</div>"
      ],
      "text/plain": [
       "          date\n",
       "min 2013-01-01\n",
       "max 2015-12-10"
      ]
     },
     "execution_count": 6,
     "metadata": {},
     "output_type": "execute_result"
    }
   ],
   "source": [
    "sample_all_time.agg({'date': ['min', 'max']})"
   ]
  },
  {
   "cell_type": "code",
   "execution_count": 7,
   "metadata": {},
   "outputs": [],
   "source": [
    "sample_no_future = sample_all_time.loc[sample_all_time['date'] < target_forecast_start]"
   ]
  },
  {
   "cell_type": "code",
   "execution_count": 8,
   "metadata": {},
   "outputs": [],
   "source": [
    "train_all_time = read_train()\n",
    "train_no_future  = train_all_time.loc[train_all_time['date'] < target_forecast_start]\n",
    "train_all_time = None"
   ]
  },
  {
   "cell_type": "code",
   "execution_count": 9,
   "metadata": {},
   "outputs": [
    {
     "data": {
      "text/plain": [
       "2.212121212121212"
      ]
     },
     "execution_count": 9,
     "metadata": {},
     "output_type": "execute_result"
    }
   ],
   "source": [
    "test = pd.read_csv('raw/test.csv')\n",
    "\n",
    "def single_fold(sample_all_time, forecast_start, forecast_length_days):\n",
    "    id_cols = ['item_id', 'shop_id']\n",
    "\n",
    "    forecast_end = forecast_start + timedelta(days = forecast_length_days)\n",
    "    forecast_target_raw = sample_all_time.query('date >= @forecast_start and date <= @forecast_end')\n",
    "    forecast_target_mo = (forecast_target_raw\n",
    "        .groupby(id_cols, as_index=False)\n",
    "        .agg({'item_cnt_day': 'sum'})\n",
    "        .rename({'item_cnt_day': 'item_cnt_month'}, axis=1)\n",
    "    )\n",
    "\n",
    "    forecast_target_mo = (test\n",
    "                          .merge(forecast_target_mo, on=id_cols, how='left')\n",
    "                          .fillna(0)\n",
    "                         )\n",
    "\n",
    "    train_start = sample_all_time.query('date < @forecast_start')\n",
    "\n",
    "    predicted_mo = forecast_last_average(\n",
    "        train_start,\n",
    "        forecast_month_length=30,\n",
    "        train_interval_len=30,\n",
    "        target_forecast_start=forecast_start\n",
    "    )\n",
    "\n",
    "    # TODO: should be part of what's predicted by the func\n",
    "    predicted_mo['item_cnt_month'] = predicted_mo['item_cnt_month'].clip(0, 20)\n",
    "    forecast_target_mo['item_cnt_month'] = forecast_target_mo['item_cnt_month'].clip(0, 20)\n",
    "    from sklearn.metrics import mean_squared_error \n",
    "    diff = (forecast_target_mo\n",
    "        .merge(predicted_mo, on=id_cols, suffixes=('_target', '_predicted'))\n",
    "    )\n",
    "    rmse = mean_squared_error(diff['item_cnt_month_target'], diff['item_cnt_month_predicted'])\n",
    "    return rmse\n",
    "\n",
    "single_fold(sample_all_time,\n",
    "           forecast_start=pd.to_datetime('2014-06-01'),\n",
    "           forecast_length_days=30)"
   ]
  },
  {
   "cell_type": "code",
   "execution_count": 10,
   "metadata": {},
   "outputs": [],
   "source": [
    "fold_rmses = []\n",
    "fold_forecast_starts = []\n",
    "n_folds = 10\n",
    "fold_shift_days = 40\n",
    "for delta in range(1, 1+n_folds):\n",
    "    forecast_start = target_forecast_start - timedelta(days=delta*fold_shift_days)\n",
    "    rmse = single_fold(sample_all_time,\n",
    "           forecast_start=forecast_start,\n",
    "           forecast_length_days=30)\n",
    "    fold_rmses.append(rmse)\n",
    "    fold_forecast_starts.append(forecast_start)"
   ]
  },
  {
   "cell_type": "code",
   "execution_count": 11,
   "metadata": {
    "scrolled": true
   },
   "outputs": [
    {
     "data": {
      "text/plain": [
       "[1.7638888888888888,\n",
       " 2.265734265734266,\n",
       " 3.0422535211267605,\n",
       " 3.0636942675159236,\n",
       " 13.547169811320755,\n",
       " 4.6644295302013425,\n",
       " 3.8983050847457625,\n",
       " 1.943661971830986,\n",
       " 2.0357142857142856,\n",
       " 3.471014492753623]"
      ]
     },
     "execution_count": 11,
     "metadata": {},
     "output_type": "execute_result"
    }
   ],
   "source": [
    "fold_rmses"
   ]
  },
  {
   "cell_type": "code",
   "execution_count": 12,
   "metadata": {},
   "outputs": [
    {
     "data": {
      "text/plain": [
       "3.9695866119832592"
      ]
     },
     "execution_count": 12,
     "metadata": {},
     "output_type": "execute_result"
    }
   ],
   "source": [
    "# 33.44 doesn't square well with LB of 8 or like 11\n",
    "# 7.26 after clipping is mucho closero\n",
    "# 10 folds x 20 days was closer (8.02) and faster than 20 folds x 10 days (7.97)\n",
    "# LB also downed to 1.13 as a result of clipping :/\n",
    "sum(fold_rmses) / len(fold_rmses)"
   ]
  },
  {
   "cell_type": "code",
   "execution_count": 13,
   "metadata": {},
   "outputs": [],
   "source": [
    "from sklearn.base import RegressorMixin"
   ]
  },
  {
   "cell_type": "code",
   "execution_count": 14,
   "metadata": {},
   "outputs": [],
   "source": [
    "class ForecastLastAverage(RegressorMixin):\n",
    "    def fit(self, X, y):\n",
    "        self.train_interval_len_days = (X['date'].max() - X['date'].min()).days\n",
    "        forecast = (X\n",
    "            .groupby(['item_id', 'shop_id'],\n",
    "                    as_index=False)\n",
    "            .agg({'item_cnt_day': ['sum', 'count'],\n",
    "                  'date': ['min', 'max']})\n",
    "        )\n",
    "        forecast['sale_days'] = (forecast['date']['max']-forecast['date']['min']).dt.days + 1\n",
    "        forecast['avg_daily_sale_items'] = forecast['item_cnt_day']['sum'] / self.train_interval_len_days\n",
    "        self.forecast = forecast[['item_id', 'shop_id', 'avg_daily_sale_items']].droplevel(1, axis=1)\n",
    "        self.na_forecast = 0\n",
    "        return self\n",
    "\n",
    "    def predict(self, X):\n",
    "        return (X\n",
    "                .merge(self.forecast, how='left', on=['item_id', 'shop_id'])\n",
    "                .fillna(0))\n",
    "\n",
    "    def transform(self, X):\n",
    "        return self.predict(X)"
   ]
  },
  {
   "cell_type": "code",
   "execution_count": 15,
   "metadata": {},
   "outputs": [
    {
     "data": {
      "text/html": [
       "<div>\n",
       "<style scoped>\n",
       "    .dataframe tbody tr th:only-of-type {\n",
       "        vertical-align: middle;\n",
       "    }\n",
       "\n",
       "    .dataframe tbody tr th {\n",
       "        vertical-align: top;\n",
       "    }\n",
       "\n",
       "    .dataframe thead th {\n",
       "        text-align: right;\n",
       "    }\n",
       "</style>\n",
       "<table border=\"1\" class=\"dataframe\">\n",
       "  <thead>\n",
       "    <tr style=\"text-align: right;\">\n",
       "      <th></th>\n",
       "      <th>date</th>\n",
       "      <th>item_id</th>\n",
       "      <th>shop_id</th>\n",
       "      <th>avg_daily_sale_items</th>\n",
       "    </tr>\n",
       "  </thead>\n",
       "  <tbody>\n",
       "    <tr>\n",
       "      <th>0</th>\n",
       "      <td>2010-02-06</td>\n",
       "      <td>3</td>\n",
       "      <td>1</td>\n",
       "      <td>0.6</td>\n",
       "    </tr>\n",
       "    <tr>\n",
       "      <th>1</th>\n",
       "      <td>2010-02-06</td>\n",
       "      <td>2</td>\n",
       "      <td>1</td>\n",
       "      <td>0.2</td>\n",
       "    </tr>\n",
       "    <tr>\n",
       "      <th>2</th>\n",
       "      <td>2010-02-06</td>\n",
       "      <td>1</td>\n",
       "      <td>3</td>\n",
       "      <td>0.0</td>\n",
       "    </tr>\n",
       "    <tr>\n",
       "      <th>3</th>\n",
       "      <td>2010-02-07</td>\n",
       "      <td>3</td>\n",
       "      <td>1</td>\n",
       "      <td>0.6</td>\n",
       "    </tr>\n",
       "    <tr>\n",
       "      <th>4</th>\n",
       "      <td>2010-03-07</td>\n",
       "      <td>3</td>\n",
       "      <td>1</td>\n",
       "      <td>0.6</td>\n",
       "    </tr>\n",
       "  </tbody>\n",
       "</table>\n",
       "</div>"
      ],
      "text/plain": [
       "         date  item_id  shop_id  avg_daily_sale_items\n",
       "0  2010-02-06        3        1                   0.6\n",
       "1  2010-02-06        2        1                   0.2\n",
       "2  2010-02-06        1        3                   0.0\n",
       "3  2010-02-07        3        1                   0.6\n",
       "4  2010-03-07        3        1                   0.6"
      ]
     },
     "execution_count": 15,
     "metadata": {},
     "output_type": "execute_result"
    }
   ],
   "source": [
    "example = pd.DataFrame(\n",
    "    columns=['date', 'item_id', 'shop_id', 'item_cnt_day'],\n",
    "    data=[\n",
    "        ['2010-01-01', 1, 1, 2],\n",
    "        ['2010-01-01', 1, 2, 3],\n",
    "        ['2010-01-01', 2, 1, 1],\n",
    "        ['2010-01-01', 3, 1, 1],\n",
    "        ['2010-01-06', 3, 1, 2],\n",
    "    ]\n",
    ")\n",
    "\n",
    "example_test = pd.DataFrame(\n",
    "    columns=['date', 'item_id', 'shop_id'],\n",
    "    data=[\n",
    "        ['2010-02-06', 3, 1],\n",
    "        ['2010-02-06', 2, 1],\n",
    "        ['2010-02-06', 1, 3],\n",
    "        ['2010-02-07', 3, 1],\n",
    "        ['2010-03-07', 3, 1],\n",
    "    ]\n",
    ")\n",
    "\n",
    "example['date'] = pd.to_datetime(example['date'])\n",
    "reg = ForecastLastAverage()\n",
    "reg.fit(example, example['item_cnt_day'])\n",
    "predicted_daily = reg.predict(example_test)\n",
    "predicted_daily"
   ]
  },
  {
   "cell_type": "code",
   "execution_count": 16,
   "metadata": {},
   "outputs": [],
   "source": [
    "# aggs in transformers is a deviation from intended use by virtue of being sample size changing transform\n",
    "# https://github.com/scikit-learn/scikit-learn/issues/3855\n",
    "# https://github.com/scikit-learn/scikit-learn/issues/4143\n",
    "# https://scikit-learn-enhancement-proposals.readthedocs.io/en/latest/slep001/proposal.html#slep001-transformers-that-modify-their-target\n",
    "# Note to self: native model might be to introduce new aggregated features into the data set rather than sampling\n",
    "# Also: Pipelines only transform the observed data (X).\n",
    "from sklearn.base import TransformerMixin, BaseEstimator\n",
    "class MonthlyAggregation(TransformerMixin, BaseEstimator):\n",
    "    def fit(self, X, y=None):\n",
    "        return self\n",
    "\n",
    "    def transform(self, X):\n",
    "        tmp = X.copy()\n",
    "        tmp['date'] = pd.to_datetime(tmp['date'])\n",
    "        tmp['year_month'] = tmp['date'].dt.strftime('%Y-%m')\n",
    "        return (tmp.groupby(\n",
    "            ['item_id', 'shop_id', 'year_month'], as_index=False)\n",
    "            .agg({'avg_daily_sale_items': 'sum'})\n",
    "            .rename({'avg_daily_sale_items': 'item_cnt_month'}, axis=1)\n",
    "        )\n",
    "    def predict(self, X):\n",
    "        return self.transform(X)"
   ]
  },
  {
   "cell_type": "code",
   "execution_count": 17,
   "metadata": {},
   "outputs": [
    {
     "data": {
      "text/html": [
       "<div>\n",
       "<style scoped>\n",
       "    .dataframe tbody tr th:only-of-type {\n",
       "        vertical-align: middle;\n",
       "    }\n",
       "\n",
       "    .dataframe tbody tr th {\n",
       "        vertical-align: top;\n",
       "    }\n",
       "\n",
       "    .dataframe thead th {\n",
       "        text-align: right;\n",
       "    }\n",
       "</style>\n",
       "<table border=\"1\" class=\"dataframe\">\n",
       "  <thead>\n",
       "    <tr style=\"text-align: right;\">\n",
       "      <th></th>\n",
       "      <th>item_id</th>\n",
       "      <th>shop_id</th>\n",
       "      <th>year_month</th>\n",
       "      <th>item_cnt_month</th>\n",
       "    </tr>\n",
       "  </thead>\n",
       "  <tbody>\n",
       "    <tr>\n",
       "      <th>0</th>\n",
       "      <td>1</td>\n",
       "      <td>3</td>\n",
       "      <td>2010-02</td>\n",
       "      <td>0.0</td>\n",
       "    </tr>\n",
       "    <tr>\n",
       "      <th>1</th>\n",
       "      <td>2</td>\n",
       "      <td>1</td>\n",
       "      <td>2010-02</td>\n",
       "      <td>0.2</td>\n",
       "    </tr>\n",
       "    <tr>\n",
       "      <th>2</th>\n",
       "      <td>3</td>\n",
       "      <td>1</td>\n",
       "      <td>2010-02</td>\n",
       "      <td>1.2</td>\n",
       "    </tr>\n",
       "    <tr>\n",
       "      <th>3</th>\n",
       "      <td>3</td>\n",
       "      <td>1</td>\n",
       "      <td>2010-03</td>\n",
       "      <td>0.6</td>\n",
       "    </tr>\n",
       "  </tbody>\n",
       "</table>\n",
       "</div>"
      ],
      "text/plain": [
       "   item_id  shop_id year_month  item_cnt_month\n",
       "0        1        3    2010-02             0.0\n",
       "1        2        1    2010-02             0.2\n",
       "2        3        1    2010-02             1.2\n",
       "3        3        1    2010-03             0.6"
      ]
     },
     "execution_count": 17,
     "metadata": {},
     "output_type": "execute_result"
    }
   ],
   "source": [
    "monthly_agg = MonthlyAggregation()\n",
    "monthly_agg.fit_transform(predicted_daily)"
   ]
  },
  {
   "cell_type": "code",
   "execution_count": 18,
   "metadata": {},
   "outputs": [
    {
     "data": {
      "text/plain": [
       "Pipeline(steps=[('forecastlastaverage',\n",
       "                 <__main__.ForecastLastAverage object at 0x7fb8606f75b0>),\n",
       "                ('monthlyaggregation', MonthlyAggregation())])"
      ]
     },
     "execution_count": 18,
     "metadata": {},
     "output_type": "execute_result"
    }
   ],
   "source": [
    "from sklearn.pipeline import Pipeline\n",
    "from sklearn.pipeline import make_pipeline\n",
    "pipe = make_pipeline(\n",
    "    ForecastLastAverage(),\n",
    "    MonthlyAggregation()\n",
    ")\n",
    "pipe.fit(example, example['item_cnt_day'])"
   ]
  },
  {
   "cell_type": "code",
   "execution_count": 19,
   "metadata": {
    "scrolled": true
   },
   "outputs": [
    {
     "data": {
      "text/html": [
       "<div>\n",
       "<style scoped>\n",
       "    .dataframe tbody tr th:only-of-type {\n",
       "        vertical-align: middle;\n",
       "    }\n",
       "\n",
       "    .dataframe tbody tr th {\n",
       "        vertical-align: top;\n",
       "    }\n",
       "\n",
       "    .dataframe thead th {\n",
       "        text-align: right;\n",
       "    }\n",
       "</style>\n",
       "<table border=\"1\" class=\"dataframe\">\n",
       "  <thead>\n",
       "    <tr style=\"text-align: right;\">\n",
       "      <th></th>\n",
       "      <th>item_id</th>\n",
       "      <th>shop_id</th>\n",
       "      <th>year_month</th>\n",
       "      <th>item_cnt_month</th>\n",
       "    </tr>\n",
       "  </thead>\n",
       "  <tbody>\n",
       "    <tr>\n",
       "      <th>0</th>\n",
       "      <td>1</td>\n",
       "      <td>3</td>\n",
       "      <td>2010-02</td>\n",
       "      <td>0.0</td>\n",
       "    </tr>\n",
       "    <tr>\n",
       "      <th>1</th>\n",
       "      <td>2</td>\n",
       "      <td>1</td>\n",
       "      <td>2010-02</td>\n",
       "      <td>0.2</td>\n",
       "    </tr>\n",
       "    <tr>\n",
       "      <th>2</th>\n",
       "      <td>3</td>\n",
       "      <td>1</td>\n",
       "      <td>2010-02</td>\n",
       "      <td>1.2</td>\n",
       "    </tr>\n",
       "    <tr>\n",
       "      <th>3</th>\n",
       "      <td>3</td>\n",
       "      <td>1</td>\n",
       "      <td>2010-03</td>\n",
       "      <td>0.6</td>\n",
       "    </tr>\n",
       "  </tbody>\n",
       "</table>\n",
       "</div>"
      ],
      "text/plain": [
       "   item_id  shop_id year_month  item_cnt_month\n",
       "0        1        3    2010-02             0.0\n",
       "1        2        1    2010-02             0.2\n",
       "2        3        1    2010-02             1.2\n",
       "3        3        1    2010-03             0.6"
      ]
     },
     "execution_count": 19,
     "metadata": {},
     "output_type": "execute_result"
    }
   ],
   "source": [
    "pipe.predict(example_test)"
   ]
  },
  {
   "cell_type": "code",
   "execution_count": 20,
   "metadata": {},
   "outputs": [],
   "source": [
    "categorical_cols = ['item_id', 'shop_id']\n",
    "feature_cols = categorical_cols\n",
    "target_col = 'item_cnt_day'"
   ]
  },
  {
   "cell_type": "code",
   "execution_count": 21,
   "metadata": {},
   "outputs": [
    {
     "data": {
      "text/plain": [
       "array([1.56689527, 1.55659079, 1.5597586 , ..., 1.08638581, 0.94470832,\n",
       "       1.6248404 ])"
      ]
     },
     "execution_count": 21,
     "metadata": {},
     "output_type": "execute_result"
    }
   ],
   "source": [
    "target_forecast_start = pd.to_datetime('2015-11-01')\n",
    "\n",
    "from sklearn.linear_model import LinearRegression\n",
    "\n",
    "regressor = LinearRegression()\n",
    "regressor.fit(sample_all_time[['item_id', 'shop_id']], sample_all_time['item_cnt_day'])\n",
    "regressor.predict(test[feature_cols])"
   ]
  },
  {
   "cell_type": "code",
   "execution_count": 22,
   "metadata": {},
   "outputs": [],
   "source": [
    "november_days = [target_forecast_start + timedelta(days=i) for i in range(0, 30)]"
   ]
  },
  {
   "cell_type": "code",
   "execution_count": 23,
   "metadata": {},
   "outputs": [
    {
     "data": {
      "text/html": [
       "<div>\n",
       "<style scoped>\n",
       "    .dataframe tbody tr th:only-of-type {\n",
       "        vertical-align: middle;\n",
       "    }\n",
       "\n",
       "    .dataframe tbody tr th {\n",
       "        vertical-align: top;\n",
       "    }\n",
       "\n",
       "    .dataframe thead th {\n",
       "        text-align: right;\n",
       "    }\n",
       "</style>\n",
       "<table border=\"1\" class=\"dataframe\">\n",
       "  <thead>\n",
       "    <tr style=\"text-align: right;\">\n",
       "      <th></th>\n",
       "      <th>ID</th>\n",
       "      <th>shop_id</th>\n",
       "      <th>item_id</th>\n",
       "      <th>date</th>\n",
       "      <th>item_cnt_day</th>\n",
       "    </tr>\n",
       "  </thead>\n",
       "  <tbody>\n",
       "    <tr>\n",
       "      <th>0</th>\n",
       "      <td>0</td>\n",
       "      <td>5</td>\n",
       "      <td>5037</td>\n",
       "      <td>2015-11-01</td>\n",
       "      <td>1.566895</td>\n",
       "    </tr>\n",
       "    <tr>\n",
       "      <th>1</th>\n",
       "      <td>0</td>\n",
       "      <td>5</td>\n",
       "      <td>5037</td>\n",
       "      <td>2015-11-02</td>\n",
       "      <td>1.566895</td>\n",
       "    </tr>\n",
       "    <tr>\n",
       "      <th>2</th>\n",
       "      <td>0</td>\n",
       "      <td>5</td>\n",
       "      <td>5037</td>\n",
       "      <td>2015-11-03</td>\n",
       "      <td>1.566895</td>\n",
       "    </tr>\n",
       "    <tr>\n",
       "      <th>3</th>\n",
       "      <td>0</td>\n",
       "      <td>5</td>\n",
       "      <td>5037</td>\n",
       "      <td>2015-11-04</td>\n",
       "      <td>1.566895</td>\n",
       "    </tr>\n",
       "    <tr>\n",
       "      <th>4</th>\n",
       "      <td>0</td>\n",
       "      <td>5</td>\n",
       "      <td>5037</td>\n",
       "      <td>2015-11-05</td>\n",
       "      <td>1.566895</td>\n",
       "    </tr>\n",
       "    <tr>\n",
       "      <th>...</th>\n",
       "      <td>...</td>\n",
       "      <td>...</td>\n",
       "      <td>...</td>\n",
       "      <td>...</td>\n",
       "      <td>...</td>\n",
       "    </tr>\n",
       "    <tr>\n",
       "      <th>6425995</th>\n",
       "      <td>214199</td>\n",
       "      <td>45</td>\n",
       "      <td>969</td>\n",
       "      <td>2015-11-26</td>\n",
       "      <td>1.624840</td>\n",
       "    </tr>\n",
       "    <tr>\n",
       "      <th>6425996</th>\n",
       "      <td>214199</td>\n",
       "      <td>45</td>\n",
       "      <td>969</td>\n",
       "      <td>2015-11-27</td>\n",
       "      <td>1.624840</td>\n",
       "    </tr>\n",
       "    <tr>\n",
       "      <th>6425997</th>\n",
       "      <td>214199</td>\n",
       "      <td>45</td>\n",
       "      <td>969</td>\n",
       "      <td>2015-11-28</td>\n",
       "      <td>1.624840</td>\n",
       "    </tr>\n",
       "    <tr>\n",
       "      <th>6425998</th>\n",
       "      <td>214199</td>\n",
       "      <td>45</td>\n",
       "      <td>969</td>\n",
       "      <td>2015-11-29</td>\n",
       "      <td>1.624840</td>\n",
       "    </tr>\n",
       "    <tr>\n",
       "      <th>6425999</th>\n",
       "      <td>214199</td>\n",
       "      <td>45</td>\n",
       "      <td>969</td>\n",
       "      <td>2015-11-30</td>\n",
       "      <td>1.624840</td>\n",
       "    </tr>\n",
       "  </tbody>\n",
       "</table>\n",
       "<p>6426000 rows × 5 columns</p>\n",
       "</div>"
      ],
      "text/plain": [
       "             ID  shop_id  item_id       date  item_cnt_day\n",
       "0             0        5     5037 2015-11-01      1.566895\n",
       "1             0        5     5037 2015-11-02      1.566895\n",
       "2             0        5     5037 2015-11-03      1.566895\n",
       "3             0        5     5037 2015-11-04      1.566895\n",
       "4             0        5     5037 2015-11-05      1.566895\n",
       "...         ...      ...      ...        ...           ...\n",
       "6425995  214199       45      969 2015-11-26      1.624840\n",
       "6425996  214199       45      969 2015-11-27      1.624840\n",
       "6425997  214199       45      969 2015-11-28      1.624840\n",
       "6425998  214199       45      969 2015-11-29      1.624840\n",
       "6425999  214199       45      969 2015-11-30      1.624840\n",
       "\n",
       "[6426000 rows x 5 columns]"
      ]
     },
     "execution_count": 23,
     "metadata": {},
     "output_type": "execute_result"
    }
   ],
   "source": [
    "def cross_join(left, right):\n",
    "    left['_tmp_col'] = 0\n",
    "    right['_tmp_col'] = 0\n",
    "    return left.merge(right, on='_tmp_col').drop(['_tmp_col'], axis=1)\n",
    "\n",
    "test_dates = cross_join(test, pd.DataFrame({'date': november_days}))\n",
    "\n",
    "predicted_daily = test_dates.copy()\n",
    "predicted_daily[target_col] = regressor.predict(test_dates[feature_cols])\n",
    "predicted_daily"
   ]
  },
  {
   "cell_type": "code",
   "execution_count": 24,
   "metadata": {},
   "outputs": [],
   "source": [
    "predicted_mo = (predicted_daily.groupby(\n",
    "        ['item_id', 'shop_id'], as_index=False)\n",
    "        .agg({target_col: 'sum'})\n",
    "        .rename({target_col: 'item_cnt_month'}, axis=1)\n",
    ")"
   ]
  },
  {
   "cell_type": "code",
   "execution_count": 25,
   "metadata": {},
   "outputs": [],
   "source": [
    "submission = forecast_to_submission(predicted_mo)"
   ]
  },
  {
   "cell_type": "code",
   "execution_count": 26,
   "metadata": {},
   "outputs": [],
   "source": [
    "# Score: 37.25347\n",
    "submission.to_csv('submissions/submission_0100_linreg_item_shop.csv', index=False)"
   ]
  },
  {
   "cell_type": "code",
   "execution_count": 27,
   "metadata": {},
   "outputs": [],
   "source": [
    "submission['item_cnt_month'] = submission['item_cnt_month'].clip(0, 20)"
   ]
  },
  {
   "cell_type": "code",
   "execution_count": 28,
   "metadata": {},
   "outputs": [],
   "source": [
    "# Score: 19.75361\n",
    "# item_id and shop_id need to be transformed 🤦‍♀️\n",
    "submission.to_csv('submissions/submission_0101_linreg_item_shop_clipped.csv', index=False)"
   ]
  },
  {
   "cell_type": "code",
   "execution_count": 29,
   "metadata": {},
   "outputs": [],
   "source": [
    "import pandas as pd\n",
    "# Local score: 76.17766593875596\n",
    "# from sklearn.linear_model import LinearRegression\n",
    "# SGD is much faster and close 75.59508733523127\n",
    "from sklearn.linear_model import SGDRegressor\n",
    "\n",
    "regressor = SGDRegressor()\n",
    "\n",
    "test = pd.read_csv('raw/test.csv')\n",
    "\n",
    "# TODO: add item_id back\n",
    "def extract_features(sample_all_time, extraction_target, categorical_cols=['shop_id']):\n",
    "    from sklearn.preprocessing import OneHotEncoder\n",
    "    from scipy import sparse\n",
    "\n",
    "    onehot_encoder = OneHotEncoder(handle_unknown='ignore')\n",
    "    onehot_encoder.fit(sample_all_time[categorical_cols])\n",
    "    categorical_features = onehot_encoder.transform(extraction_target[categorical_cols])\n",
    "    days_since = (extraction_target['date']-pd.to_datetime('2012-01-01')).dt.days\n",
    "    days_since = days_since.to_numpy()[:,np.newaxis]\n",
    "    continuous_features = [days_since]\n",
    "    # Note to self: np would complain about sparse matrix being onedimensional :/\n",
    "    transformed_features = sparse.hstack([categorical_features] + continuous_features)\n",
    "    \n",
    "    from sklearn.preprocessing import StandardScaler\n",
    "    scaler = StandardScaler(with_mean=False)\n",
    "\n",
    "    # Otherwise it's in COO and doesn't support indexing :/\n",
    "    # Note to self: adding a new feature hurt SGD convergence which I initially misdiagnosed for sparse matrix mgmt issues\n",
    "    transformed_features = transformed_features.tocsr()\n",
    "    transformed_features = scaler.fit_transform(transformed_features)\n",
    "    \n",
    "    return transformed_features\n",
    "\n",
    "def single_fold(regressor,\n",
    "                transformed_features,\n",
    "                dates_frame,\n",
    "                ids_frame,\n",
    "                target_frame,\n",
    "                forecast_start,\n",
    "                forecast_length_days):\n",
    "    # split\n",
    "    forecast_end_date = forecast_start + timedelta(days = forecast_length_days)\n",
    "    train_indexes = dates_frame['date'] < forecast_start\n",
    "    test_indexes = (dates_frame['date'] >= forecast_start) & (dates_frame['date'] <= forecast_end_date)\n",
    "\n",
    "    grouper = ids_frame['item_id']*100 + ids_frame['shop_id']\n",
    "    forecast_target_mo = (target_frame\n",
    "        .groupby(grouper, as_index=False)\n",
    "        .agg({target_col: 'sum'})\n",
    "        .rename({target_col: 'item_cnt_month'}, axis=1)\n",
    "    )\n",
    "\n",
    "    train_features = transformed_features[train_indexes]\n",
    "    test_features = transformed_features[test_indexes]\n",
    "\n",
    "    regressor.fit(train_features, target_frame[train_indexes].squeeze())\n",
    "    predicted_daily = (regressor\n",
    "                       .predict(test_features)\n",
    "                       .squeeze()\n",
    "                      )\n",
    "    predicted_daily = pd.DataFrame({'item_id': ids_frame[test_indexes]['item_id'],\n",
    "                                    'shop_id': ids_frame[test_indexes]['shop_id'],\n",
    "                                    target_col: predicted_daily})\n",
    "    predicted_mo = (predicted_daily.groupby(\n",
    "            ['item_id', 'shop_id'], as_index=False)\n",
    "            .agg({target_col: 'sum'})\n",
    "            .rename({target_col: 'item_cnt_month'}, axis=1)\n",
    "    )\n",
    "\n",
    "    # TODO: should be part of what's predicted by the func? (so e.g. test targets are transformed)\n",
    "    predicted_mo['item_cnt_month'] = predicted_mo['item_cnt_month'].clip(0, 20)\n",
    "    forecast_target_mo['item_cnt_month'] = forecast_target_mo['item_cnt_month'].clip(0, 20)\n",
    "    from sklearn.metrics import mean_squared_error \n",
    "    predicted_mo['item_cnt_month_target'] = forecast_target_mo['item_cnt_month']\n",
    "    rmse = mean_squared_error(predicted_mo['item_cnt_month_target'], predicted_mo['item_cnt_month'])\n",
    "\n",
    "    return rmse, predicted_mo"
   ]
  },
  {
   "cell_type": "code",
   "execution_count": 30,
   "metadata": {},
   "outputs": [],
   "source": [
    "id_cols = ['item_id', 'shop_id']\n",
    "dates_frame = sample_all_time[['date']]\n",
    "target_frame = sample_all_time[['item_cnt_day']]\n",
    "ids_frame = sample_all_time[id_cols]\n",
    "transformed_features = extract_features(sample_all_time, sample_all_time)\n",
    "\n",
    "rmse, predicted_mo = single_fold(regressor, transformed_features, dates_frame, ids_frame, target_frame,\n",
    "           forecast_start=pd.to_datetime('2014-06-01'),\n",
    "           forecast_length_days=30)"
   ]
  },
  {
   "cell_type": "code",
   "execution_count": 31,
   "metadata": {},
   "outputs": [
    {
     "data": {
      "text/plain": [
       "129    20.000000\n",
       "99     20.000000\n",
       "101    20.000000\n",
       "102    20.000000\n",
       "103    20.000000\n",
       "         ...    \n",
       "216     1.000000\n",
       "215     1.000000\n",
       "155     1.000000\n",
       "232     0.998278\n",
       "246     0.349899\n",
       "Name: diff, Length: 312, dtype: float64"
      ]
     },
     "execution_count": 31,
     "metadata": {},
     "output_type": "execute_result"
    }
   ],
   "source": [
    "predicted_mo['diff'] = (predicted_mo['item_cnt_month_target']-predicted_mo['item_cnt_month']).abs()\n",
    "predicted_mo['diff'].sort_values(ascending=False)"
   ]
  },
  {
   "cell_type": "code",
   "execution_count": 32,
   "metadata": {},
   "outputs": [],
   "source": [
    "from sklearn.base import clone\n",
    "def ts_cv(\n",
    "    orig_regressor,\n",
    "    train_all_time,\n",
    "    transformed_features,\n",
    "    n_folds,\n",
    "    forecast_length_days=30,\n",
    "    target_forecast_start = pd.to_datetime('2015-11-01')\n",
    "):\n",
    "    id_cols = ['item_id', 'shop_id']\n",
    "    dates_frame = train_all_time[['date']]\n",
    "    target_frame = train_all_time[['item_cnt_day']]\n",
    "    ids_frame = train_all_time[id_cols]\n",
    "\n",
    "    target_forecast_start = pd.to_datetime('2015-11-01')\n",
    "    forecast_length_days = 30\n",
    "\n",
    "    fold_rmses = []\n",
    "    fold_forecast_starts = []\n",
    "    n_folds = 3\n",
    "    fold_shift_days = 40\n",
    "    for delta in range(1, 1+n_folds):\n",
    "        forecast_start = target_forecast_start - timedelta(days=delta*fold_shift_days)\n",
    "        rmse, predicted_mo = single_fold(clone(orig_regressor), transformed_features, dates_frame, ids_frame, target_frame,\n",
    "               forecast_start=forecast_start,\n",
    "               forecast_length_days=30)\n",
    "        fold_rmses.append(rmse)\n",
    "        fold_forecast_starts.append(forecast_start)\n",
    "        \n",
    "    return fold_rmses, fold_forecast_starts"
   ]
  },
  {
   "cell_type": "code",
   "execution_count": 33,
   "metadata": {},
   "outputs": [],
   "source": [
    "fold_rmses, fold_forecast_starts = ts_cv(regressor, sample_all_time, transformed_features, 3)"
   ]
  },
  {
   "cell_type": "code",
   "execution_count": 34,
   "metadata": {},
   "outputs": [
    {
     "data": {
      "text/plain": [
       "157.35189184200814"
      ]
     },
     "execution_count": 34,
     "metadata": {},
     "output_type": "execute_result"
    }
   ],
   "source": [
    "sum(fold_rmses) / len(fold_rmses)"
   ]
  },
  {
   "cell_type": "code",
   "execution_count": 35,
   "metadata": {
    "scrolled": false
   },
   "outputs": [
    {
     "data": {
      "text/plain": [
       "'\\n### just one_hot(item_id), no scaling\\n-- Epoch 7\\nNorm: 6.56, NNZs: 60, Bias: 0.586401, T: 20277474, Avg. loss: 3.438490\\nTotal training time: 7.31 seconds.\\nConvergence after 7 epochs took 7.31 seconds\\n\\n### without scaling\\n-- Epoch 1\\nNorm: 13365889676.59, NNZs: 61, Bias: -832110.113639, T: 2896782, Avg. loss: 146950322552603541504.000000\\nTotal training time: 1.17 seconds.\\n...\\n\\nNote to self: overall, tinkering with LR and such would be a bit more productive in e.g. pytorch\\n'"
      ]
     },
     "execution_count": 35,
     "metadata": {},
     "output_type": "execute_result"
    }
   ],
   "source": [
    "\"\"\"\n",
    "### just one_hot(item_id), no scaling\n",
    "-- Epoch 7\n",
    "Norm: 6.56, NNZs: 60, Bias: 0.586401, T: 20277474, Avg. loss: 3.438490\n",
    "Total training time: 7.31 seconds.\n",
    "Convergence after 7 epochs took 7.31 seconds\n",
    "\n",
    "### without scaling\n",
    "-- Epoch 1\n",
    "Norm: 13365889676.59, NNZs: 61, Bias: -832110.113639, T: 2896782, Avg. loss: 146950322552603541504.000000\n",
    "Total training time: 1.17 seconds.\n",
    "...\n",
    "\n",
    "Note to self: overall, tinkering with LR and such would be a bit more productive in e.g. pytorch\n",
    "\"\"\"\n",
    "#regressor = SGDRegressor(max_iter=10, verbose=15, learning_rate='adaptive')#, penalty='elasticnet')\n"
   ]
  },
  {
   "cell_type": "code",
   "execution_count": 36,
   "metadata": {},
   "outputs": [],
   "source": [
    "from sklearn.preprocessing import OneHotEncoder\n",
    "from scipy import sparse\n",
    "from sklearn.preprocessing import StandardScaler\n",
    "scaler = StandardScaler(with_mean=False)\n",
    "\n",
    "class FeatureExtractor():\n",
    "    def __init__(self, categorical_cols=['shop_id']):\n",
    "        self.onehot_encoder = OneHotEncoder(handle_unknown='ignore')\n",
    "        self.categorical_cols = categorical_cols\n",
    "        \n",
    "    def fit(self, sample_all_time):\n",
    "        derived = self._ensure_derived(sample_all_time)\n",
    "        self.onehot_encoder.fit(derived[self.categorical_cols])\n",
    "\n",
    "    def _ensure_derived(self, data):\n",
    "        for categorical_name in self.categorical_cols:\n",
    "            if ':' in categorical_name:\n",
    "                split_char_idx = categorical_name.index(':')\n",
    "                raw_col_name = categorical_name[:split_char_idx]\n",
    "                derived_col_name = categorical_name[split_char_idx+1:]\n",
    "                data[categorical_name] = getattr(data[raw_col_name].dt, derived_col_name)\n",
    "                        \n",
    "        return data\n",
    "        \n",
    "    def transform(self, extraction_target):                \n",
    "        derived = self._ensure_derived(extraction_target)\n",
    "        categorical_features = self.onehot_encoder.transform(derived[self.categorical_cols])\n",
    "        days_since = (extraction_target['date']-pd.to_datetime('2012-01-01')).dt.days\n",
    "        days_since = days_since.to_numpy()[:,np.newaxis]\n",
    "        continuous_features = [days_since]\n",
    "        # Note to self: np would complain about sparse matrix being onedimensional :/\n",
    "        transformed_features = sparse.hstack([categorical_features] + continuous_features)\n",
    "        # Otherwise it's in COO and doesn't support indexing :/\n",
    "        # Note to self: adding a new feature hurt SGD convergence which I initially misdiagnosed for sparse matrix mgmt issues\n",
    "        transformed_features = transformed_features.tocsr()\n",
    "        transformed_features = scaler.fit_transform(transformed_features)\n",
    "        return transformed_features"
   ]
  },
  {
   "cell_type": "code",
   "execution_count": 37,
   "metadata": {},
   "outputs": [],
   "source": [
    "class Pipeline():\n",
    "    def __init__(self, regressor, feature_extractor,\n",
    "                 daily_train,\n",
    "                 daily_test,\n",
    "                 target_forecast_start=pd.to_datetime('2015-11-01')):\n",
    "        self.regressor = regressor\n",
    "        self.feature_extractor = feature_extractor\n",
    "        count_after = len(daily_train.query('date >= @target_forecast_start'))\n",
    "        if count_after > 0:\n",
    "            raise ValueError(f\"Expected no entries after target forecast start {target_forecast_start}, got {count_after}\")\n",
    "        self.train_no_future = daily_train\n",
    "        self.test_dates = daily_test\n",
    "        \n",
    "    def ensure_train_features(self):\n",
    "        if not hasattr(self, 'transformed_features'):\n",
    "            self.feature_extractor.fit(self.train_no_future)\n",
    "            self.transformed_features = self.feature_extractor.transform(self.train_no_future) \n",
    "\n",
    "    def cv(self, n_folds=3):\n",
    "        self.ensure_train_features()\n",
    "        self.cv_fold_rmses, self.cv_fold_forecast_starts = ts_cv(\n",
    "            self.regressor, self.train_no_future, self.transformed_features, n_folds)\n",
    "        return sum(self.cv_fold_rmses) / len(self.cv_fold_rmses)\n",
    "        \n",
    "    def fit(self):\n",
    "        self.ensure_train_features()\n",
    "        self.test_features = self.feature_extractor.transform(self.test_dates)\n",
    "        self.regressor.fit(self.transformed_features, self.train_no_future['item_cnt_day'])\n",
    "\n",
    "    def predict(self):\n",
    "        predicted_daily = self.regressor.predict(self.test_features)\n",
    "        self.predicted_daily = pd.DataFrame({'item_id': self.test_dates['item_id'],\n",
    "                                             'shop_id': self.test_dates['shop_id'],\n",
    "                                              target_col: predicted_daily})\n",
    "        self.predicted_mo = (self.predicted_daily.groupby(\n",
    "                ['item_id', 'shop_id'], as_index=False)\n",
    "                .agg({target_col: 'sum'})\n",
    "                .rename({target_col: 'item_cnt_month'}, axis=1)\n",
    "        )        \n",
    "        \n",
    "    def prepare_submit(self, name, force=False):\n",
    "        predicted_mo = self.predicted_mo.copy()\n",
    "        predicted_mo['item_cnt_month'] = predicted_mo['item_cnt_month'].clip(0, 20)\n",
    "        self.submission = forecast_to_submission(predicted_mo)\n",
    "        path = f'submissions/submission_{name}.csv'\n",
    "        import os;\n",
    "        if os.path.isfile(path) and not force:\n",
    "            raise ValueError(path + ' already exists.')\n",
    "        self.submission.to_csv(path, index=False)"
   ]
  },
  {
   "cell_type": "code",
   "execution_count": 38,
   "metadata": {},
   "outputs": [],
   "source": [
    "from sklearn.linear_model import LinearRegression\n",
    "regressor = LinearRegression()"
   ]
  },
  {
   "cell_type": "code",
   "execution_count": 39,
   "metadata": {},
   "outputs": [
    {
     "data": {
      "text/plain": [
       "108.90146874585946"
      ]
     },
     "execution_count": 39,
     "metadata": {},
     "output_type": "execute_result"
    }
   ],
   "source": [
    "pipeline = Pipeline(\n",
    "    LinearRegression(),\n",
    "    FeatureExtractor(categorical_cols=['shop_id', 'item_id']),\n",
    "    sample_no_future, test_dates)\n",
    "pipeline.cv()"
   ]
  },
  {
   "cell_type": "code",
   "execution_count": 40,
   "metadata": {},
   "outputs": [],
   "source": [
    "pipeline.fit()\n",
    "pipeline.predict()\n",
    "pipeline.prepare_submit('0104_linreg_shop_id_days_since', force=True)"
   ]
  },
  {
   "cell_type": "code",
   "execution_count": 41,
   "metadata": {},
   "outputs": [
    {
     "data": {
      "text/plain": [
       "\"\\nPipeline(\\n    LinearRegression(),\\n    FeatureExtractor(categorical_cols=['shop_id']),\\n    sample_all_time, test_dates)\\n\""
      ]
     },
     "execution_count": 41,
     "metadata": {},
     "output_type": "execute_result"
    }
   ],
   "source": [
    "\"\"\"\n",
    "Pipeline(\n",
    "    LinearRegression(),\n",
    "    FeatureExtractor(categorical_cols=['shop_id']),\n",
    "    sample_all_time, test_dates)\n",
    "\"\"\"\n",
    "# TODO: test expected to fail"
   ]
  },
  {
   "cell_type": "code",
   "execution_count": 42,
   "metadata": {
    "scrolled": true
   },
   "outputs": [
    {
     "data": {
      "text/plain": [
       "72.01573293652204"
      ]
     },
     "execution_count": 42,
     "metadata": {},
     "output_type": "execute_result"
    }
   ],
   "source": [
    "pipeline = Pipeline(\n",
    "    LinearRegression(),\n",
    "    FeatureExtractor(categorical_cols=['shop_id', 'item_id']),\n",
    "    train_no_future, test_dates)\n",
    "pipeline.cv(3)"
   ]
  },
  {
   "cell_type": "code",
   "execution_count": 43,
   "metadata": {},
   "outputs": [
    {
     "data": {
      "text/plain": [
       "68.57399120343979"
      ]
     },
     "execution_count": 43,
     "metadata": {},
     "output_type": "execute_result"
    }
   ],
   "source": [
    "pipeline = Pipeline(\n",
    "    LinearRegression(),\n",
    "    FeatureExtractor(categorical_cols=['shop_id']),\n",
    "    train_no_future, test_dates)\n",
    "pipeline.cv(3)"
   ]
  },
  {
   "cell_type": "code",
   "execution_count": 44,
   "metadata": {},
   "outputs": [
    {
     "data": {
      "text/plain": [
       "68.5705214688219"
      ]
     },
     "execution_count": 44,
     "metadata": {},
     "output_type": "execute_result"
    }
   ],
   "source": [
    "pipeline = Pipeline(\n",
    "    LinearRegression(),\n",
    "    FeatureExtractor(categorical_cols=['shop_id', 'date:dayofweek']),\n",
    "    train_no_future, test_dates)\n",
    "pipeline.cv(3)"
   ]
  },
  {
   "cell_type": "code",
   "execution_count": 45,
   "metadata": {},
   "outputs": [],
   "source": [
    "pipeline.fit()\n",
    "pipeline.predict()\n",
    "# Score: \n",
    "#pipeline.prepare_submit('0105_linreg_shop_id_days_since_dayof_week')"
   ]
  },
  {
   "cell_type": "code",
   "execution_count": 46,
   "metadata": {},
   "outputs": [
    {
     "data": {
      "text/plain": [
       "['shop_id', 'date:dayofweek']"
      ]
     },
     "execution_count": 46,
     "metadata": {},
     "output_type": "execute_result"
    }
   ],
   "source": [
    "pipeline.feature_extractor.categorical_cols"
   ]
  },
  {
   "cell_type": "code",
   "execution_count": 50,
   "metadata": {},
   "outputs": [
    {
     "data": {
      "text/html": [
       "<div>\n",
       "<style scoped>\n",
       "    .dataframe tbody tr th:only-of-type {\n",
       "        vertical-align: middle;\n",
       "    }\n",
       "\n",
       "    .dataframe tbody tr th {\n",
       "        vertical-align: top;\n",
       "    }\n",
       "\n",
       "    .dataframe thead th {\n",
       "        text-align: right;\n",
       "    }\n",
       "</style>\n",
       "<table border=\"1\" class=\"dataframe\">\n",
       "  <thead>\n",
       "    <tr style=\"text-align: right;\">\n",
       "      <th></th>\n",
       "      <th>item_id</th>\n",
       "      <th>shop_id</th>\n",
       "      <th>item_cnt_month</th>\n",
       "    </tr>\n",
       "  </thead>\n",
       "  <tbody>\n",
       "    <tr>\n",
       "      <th>0</th>\n",
       "      <td>30</td>\n",
       "      <td>2</td>\n",
       "      <td>20.0</td>\n",
       "    </tr>\n",
       "    <tr>\n",
       "      <th>1</th>\n",
       "      <td>30</td>\n",
       "      <td>3</td>\n",
       "      <td>20.0</td>\n",
       "    </tr>\n",
       "    <tr>\n",
       "      <th>2</th>\n",
       "      <td>30</td>\n",
       "      <td>4</td>\n",
       "      <td>20.0</td>\n",
       "    </tr>\n",
       "    <tr>\n",
       "      <th>3</th>\n",
       "      <td>30</td>\n",
       "      <td>5</td>\n",
       "      <td>20.0</td>\n",
       "    </tr>\n",
       "    <tr>\n",
       "      <th>4</th>\n",
       "      <td>30</td>\n",
       "      <td>6</td>\n",
       "      <td>20.0</td>\n",
       "    </tr>\n",
       "    <tr>\n",
       "      <th>...</th>\n",
       "      <td>...</td>\n",
       "      <td>...</td>\n",
       "      <td>...</td>\n",
       "    </tr>\n",
       "    <tr>\n",
       "      <th>214195</th>\n",
       "      <td>22167</td>\n",
       "      <td>55</td>\n",
       "      <td>20.0</td>\n",
       "    </tr>\n",
       "    <tr>\n",
       "      <th>214196</th>\n",
       "      <td>22167</td>\n",
       "      <td>56</td>\n",
       "      <td>20.0</td>\n",
       "    </tr>\n",
       "    <tr>\n",
       "      <th>214197</th>\n",
       "      <td>22167</td>\n",
       "      <td>57</td>\n",
       "      <td>20.0</td>\n",
       "    </tr>\n",
       "    <tr>\n",
       "      <th>214198</th>\n",
       "      <td>22167</td>\n",
       "      <td>58</td>\n",
       "      <td>20.0</td>\n",
       "    </tr>\n",
       "    <tr>\n",
       "      <th>214199</th>\n",
       "      <td>22167</td>\n",
       "      <td>59</td>\n",
       "      <td>20.0</td>\n",
       "    </tr>\n",
       "  </tbody>\n",
       "</table>\n",
       "<p>214200 rows × 3 columns</p>\n",
       "</div>"
      ],
      "text/plain": [
       "        item_id  shop_id  item_cnt_month\n",
       "0            30        2            20.0\n",
       "1            30        3            20.0\n",
       "2            30        4            20.0\n",
       "3            30        5            20.0\n",
       "4            30        6            20.0\n",
       "...         ...      ...             ...\n",
       "214195    22167       55            20.0\n",
       "214196    22167       56            20.0\n",
       "214197    22167       57            20.0\n",
       "214198    22167       58            20.0\n",
       "214199    22167       59            20.0\n",
       "\n",
       "[214200 rows x 3 columns]"
      ]
     },
     "execution_count": 50,
     "metadata": {},
     "output_type": "execute_result"
    }
   ],
   "source": [
    "pipeline.predicted_mo"
   ]
  },
  {
   "cell_type": "code",
   "execution_count": 47,
   "metadata": {},
   "outputs": [],
   "source": [
    "# Score: 2.70899\n",
    "#submission['item_cnt_month'] =submission['item_cnt_month'].clip(0, 20)\n",
    "#submission.to_csv('submissions/submission_0102_linreg_item_shop_clipped.csv', index=False)"
   ]
  },
  {
   "cell_type": "code",
   "execution_count": 48,
   "metadata": {},
   "outputs": [],
   "source": [
    "# Score: 1.42040\n",
    "#submission['item_cnt_month'] =submission['item_cnt_month'].clip(0, 20)\n",
    "#submission.to_csv('submissions/submission_0103_sgd_linreg_item_shop_clipped.csv', index=False)"
   ]
  },
  {
   "cell_type": "code",
   "execution_count": null,
   "metadata": {},
   "outputs": [],
   "source": []
  }
 ],
 "metadata": {
  "kernelspec": {
   "display_name": "Python 3",
   "language": "python",
   "name": "python3"
  },
  "language_info": {
   "codemirror_mode": {
    "name": "ipython",
    "version": 3
   },
   "file_extension": ".py",
   "mimetype": "text/x-python",
   "name": "python",
   "nbconvert_exporter": "python",
   "pygments_lexer": "ipython3",
   "version": "3.8.2"
  },
  "toc": {
   "base_numbering": 1,
   "nav_menu": {},
   "number_sections": true,
   "sideBar": true,
   "skip_h1_title": false,
   "title_cell": "Table of Contents",
   "title_sidebar": "Contents",
   "toc_cell": false,
   "toc_position": {},
   "toc_section_display": true,
   "toc_window_display": false
  },
  "varInspector": {
   "cols": {
    "lenName": 16,
    "lenType": 16,
    "lenVar": 40
   },
   "kernels_config": {
    "python": {
     "delete_cmd_postfix": "",
     "delete_cmd_prefix": "del ",
     "library": "var_list.py",
     "varRefreshCmd": "print(var_dic_list())"
    },
    "r": {
     "delete_cmd_postfix": ") ",
     "delete_cmd_prefix": "rm(",
     "library": "var_list.r",
     "varRefreshCmd": "cat(var_dic_list()) "
    }
   },
   "types_to_exclude": [
    "module",
    "function",
    "builtin_function_or_method",
    "instance",
    "_Feature"
   ],
   "window_display": false
  }
 },
 "nbformat": 4,
 "nbformat_minor": 4
}
