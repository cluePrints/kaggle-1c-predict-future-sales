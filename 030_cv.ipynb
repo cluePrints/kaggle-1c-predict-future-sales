{
 "cells": [
  {
   "cell_type": "code",
   "execution_count": 1,
   "metadata": {},
   "outputs": [],
   "source": [
    "%matplotlib inline\n",
    "%load_ext autoreload\n",
    "%autoreload 2"
   ]
  },
  {
   "cell_type": "code",
   "execution_count": 2,
   "metadata": {},
   "outputs": [],
   "source": [
    "# export\n",
    "import pandas as pd\n",
    "import numpy as np\n",
    "from datetime import timedelta"
   ]
  },
  {
   "cell_type": "code",
   "execution_count": 3,
   "metadata": {},
   "outputs": [
    {
     "data": {
      "text/html": [
       "<div>\n",
       "<style scoped>\n",
       "    .dataframe tbody tr th:only-of-type {\n",
       "        vertical-align: middle;\n",
       "    }\n",
       "\n",
       "    .dataframe tbody tr th {\n",
       "        vertical-align: top;\n",
       "    }\n",
       "\n",
       "    .dataframe thead th {\n",
       "        text-align: right;\n",
       "    }\n",
       "</style>\n",
       "<table border=\"1\" class=\"dataframe\">\n",
       "  <thead>\n",
       "    <tr style=\"text-align: right;\">\n",
       "      <th></th>\n",
       "      <th>date</th>\n",
       "      <th>date_block_num</th>\n",
       "      <th>shop_id</th>\n",
       "      <th>item_id</th>\n",
       "      <th>item_price</th>\n",
       "      <th>item_cnt_day</th>\n",
       "    </tr>\n",
       "  </thead>\n",
       "  <tbody>\n",
       "    <tr>\n",
       "      <th>0</th>\n",
       "      <td>2013-02-01</td>\n",
       "      <td>0</td>\n",
       "      <td>59</td>\n",
       "      <td>22154</td>\n",
       "      <td>999.0</td>\n",
       "      <td>1.0</td>\n",
       "    </tr>\n",
       "    <tr>\n",
       "      <th>1</th>\n",
       "      <td>2013-03-01</td>\n",
       "      <td>0</td>\n",
       "      <td>25</td>\n",
       "      <td>2552</td>\n",
       "      <td>899.0</td>\n",
       "      <td>1.0</td>\n",
       "    </tr>\n",
       "  </tbody>\n",
       "</table>\n",
       "</div>"
      ],
      "text/plain": [
       "        date  date_block_num  shop_id  item_id  item_price  item_cnt_day\n",
       "0 2013-02-01               0       59    22154       999.0           1.0\n",
       "1 2013-03-01               0       25     2552       899.0           1.0"
      ]
     },
     "execution_count": 3,
     "metadata": {},
     "output_type": "execute_result"
    }
   ],
   "source": [
    "from kaggle_1c_predict_future_sales.trivial_predict import read_train, forecast_last_average\n",
    "\n",
    "train_all_time = read_train()\n",
    "train_all_time.head(2)"
   ]
  },
  {
   "cell_type": "code",
   "execution_count": 4,
   "metadata": {},
   "outputs": [
    {
     "data": {
      "text/html": [
       "<div>\n",
       "<style scoped>\n",
       "    .dataframe tbody tr th:only-of-type {\n",
       "        vertical-align: middle;\n",
       "    }\n",
       "\n",
       "    .dataframe tbody tr th {\n",
       "        vertical-align: top;\n",
       "    }\n",
       "\n",
       "    .dataframe thead th {\n",
       "        text-align: right;\n",
       "    }\n",
       "</style>\n",
       "<table border=\"1\" class=\"dataframe\">\n",
       "  <thead>\n",
       "    <tr style=\"text-align: right;\">\n",
       "      <th></th>\n",
       "      <th>date</th>\n",
       "    </tr>\n",
       "  </thead>\n",
       "  <tbody>\n",
       "    <tr>\n",
       "      <th>min</th>\n",
       "      <td>2013-01-01</td>\n",
       "    </tr>\n",
       "    <tr>\n",
       "      <th>max</th>\n",
       "      <td>2015-12-10</td>\n",
       "    </tr>\n",
       "  </tbody>\n",
       "</table>\n",
       "</div>"
      ],
      "text/plain": [
       "          date\n",
       "min 2013-01-01\n",
       "max 2015-12-10"
      ]
     },
     "execution_count": 4,
     "metadata": {},
     "output_type": "execute_result"
    }
   ],
   "source": [
    "train_all_time.agg({'date': ['min', 'max']})"
   ]
  },
  {
   "cell_type": "code",
   "execution_count": 5,
   "metadata": {},
   "outputs": [
    {
     "data": {
      "text/plain": [
       "5.664616599898437"
      ]
     },
     "execution_count": 5,
     "metadata": {},
     "output_type": "execute_result"
    }
   ],
   "source": [
    "test = pd.read_csv('raw/test.csv')\n",
    "\n",
    "def single_fold(train_all_time, forecast_start, forecast_length_days):\n",
    "    id_cols = ['item_id', 'shop_id']\n",
    "\n",
    "    forecast_end = forecast_start + timedelta(days = forecast_length_days)\n",
    "    forecast_target_raw = train_all_time.query('date >= @forecast_start and date <= @forecast_end')\n",
    "    forecast_target_mo = (forecast_target_raw\n",
    "        .groupby(id_cols, as_index=False)\n",
    "        .agg({'item_cnt_day': 'sum'})\n",
    "        .rename({'item_cnt_day': 'item_cnt_month'}, axis=1)\n",
    "    )\n",
    "\n",
    "    forecast_target_mo = (test\n",
    "                          .merge(forecast_target_mo, on=id_cols, how='left')\n",
    "                          .fillna(0)\n",
    "                         )\n",
    "\n",
    "    train_start = train_all_time.query('date < @forecast_start')\n",
    "\n",
    "    predicted_mo = forecast_last_average(\n",
    "        train_start,\n",
    "        forecast_month_length=30,\n",
    "        train_interval_len=30,\n",
    "        target_forecast_start=forecast_start\n",
    "    )\n",
    "\n",
    "    # TODO: should be part of what's predicted by the func\n",
    "    predicted_mo['item_cnt_month'] = predicted_mo['item_cnt_month'].clip(0, 20)\n",
    "    forecast_target_mo['item_cnt_month'] = forecast_target_mo['item_cnt_month'].clip(0, 20)\n",
    "    from sklearn.metrics import mean_squared_error \n",
    "    diff = (forecast_target_mo\n",
    "        .merge(predicted_mo, on=id_cols, suffixes=('_target', '_predicted'))\n",
    "    )\n",
    "    rmse = mean_squared_error(diff['item_cnt_month_target'], diff['item_cnt_month_predicted'])\n",
    "    return rmse\n",
    "\n",
    "single_fold(train_all_time,\n",
    "           forecast_start=pd.to_datetime('2014-06-01'),\n",
    "           forecast_length_days=30)"
   ]
  },
  {
   "cell_type": "code",
   "execution_count": 6,
   "metadata": {},
   "outputs": [],
   "source": [
    "target_forecast_start = pd.to_datetime('2015-11-01')\n",
    "forecast_length_days = 30\n",
    "\n",
    "fold_rmses = []\n",
    "fold_forecast_starts = []\n",
    "n_folds = 10\n",
    "fold_shift_days = 40\n",
    "for delta in range(1, 1+n_folds):\n",
    "    forecast_start = target_forecast_start - timedelta(days=delta*fold_shift_days)\n",
    "    rmse = single_fold(train_all_time,\n",
    "           forecast_start=forecast_start,\n",
    "           forecast_length_days=30)\n",
    "    fold_rmses.append(rmse)\n",
    "    fold_forecast_starts.append(forecast_start)"
   ]
  },
  {
   "cell_type": "code",
   "execution_count": 7,
   "metadata": {
    "scrolled": true
   },
   "outputs": [
    {
     "data": {
      "text/plain": [
       "[4.004057726907323,\n",
       " 3.7755710809325693,\n",
       " 3.776356558353857,\n",
       " 3.9762894468951475,\n",
       " 4.486619199607169,\n",
       " 4.632950990615224,\n",
       " 5.152054566627849,\n",
       " 7.792788503159899,\n",
       " 6.659770352746457,\n",
       " 4.452070885041622]"
      ]
     },
     "execution_count": 7,
     "metadata": {},
     "output_type": "execute_result"
    }
   ],
   "source": [
    "fold_rmses"
   ]
  },
  {
   "cell_type": "code",
   "execution_count": 8,
   "metadata": {},
   "outputs": [
    {
     "data": {
      "text/plain": [
       "4.870852931088711"
      ]
     },
     "execution_count": 8,
     "metadata": {},
     "output_type": "execute_result"
    }
   ],
   "source": [
    "# 33.44 doesn't square well with LB of 8 or like 11\n",
    "# 7.26 after clipping is mucho closero\n",
    "# 10 folds x 20 days was closer (8.02) and faster than 20 folds x 10 days (7.97)\n",
    "# LB also downed to 1.13 as a result of clipping :/\n",
    "sum(fold_rmses) / len(fold_rmses)"
   ]
  },
  {
   "cell_type": "code",
   "execution_count": 9,
   "metadata": {},
   "outputs": [],
   "source": [
    "from sklearn.base import RegressorMixin"
   ]
  },
  {
   "cell_type": "code",
   "execution_count": 10,
   "metadata": {},
   "outputs": [],
   "source": [
    "RegressorMixin??"
   ]
  },
  {
   "cell_type": "code",
   "execution_count": 94,
   "metadata": {},
   "outputs": [],
   "source": [
    "class ForecastLastAverage(RegressorMixin):\n",
    "    def fit(self, X, y):\n",
    "        self.train_interval_len_days = (X['date'].max() - X['date'].min()).days\n",
    "        forecast = (X\n",
    "            .groupby(['item_id', 'shop_id'],\n",
    "                    as_index=False)\n",
    "            .agg({'item_cnt_day': ['sum', 'count'],\n",
    "                  'date': ['min', 'max']})\n",
    "        )\n",
    "        forecast['sale_days'] = (forecast['date']['max']-forecast['date']['min']).dt.days + 1\n",
    "        forecast['avg_daily_sale_items'] = forecast['item_cnt_day']['sum'] / self.train_interval_len_days\n",
    "        self.forecast = forecast[['item_id', 'shop_id', 'avg_daily_sale_items']].droplevel(1, axis=1)\n",
    "        self.na_forecast = 0\n",
    "        return self\n",
    "\n",
    "    def predict(self, X):\n",
    "        return (X\n",
    "                .merge(self.forecast, how='left', on=['item_id', 'shop_id'])\n",
    "                .fillna(0))\n",
    "\n",
    "    def transform(self, X):\n",
    "        return self.predict(X)"
   ]
  },
  {
   "cell_type": "code",
   "execution_count": 95,
   "metadata": {},
   "outputs": [
    {
     "data": {
      "text/html": [
       "<div>\n",
       "<style scoped>\n",
       "    .dataframe tbody tr th:only-of-type {\n",
       "        vertical-align: middle;\n",
       "    }\n",
       "\n",
       "    .dataframe tbody tr th {\n",
       "        vertical-align: top;\n",
       "    }\n",
       "\n",
       "    .dataframe thead th {\n",
       "        text-align: right;\n",
       "    }\n",
       "</style>\n",
       "<table border=\"1\" class=\"dataframe\">\n",
       "  <thead>\n",
       "    <tr style=\"text-align: right;\">\n",
       "      <th></th>\n",
       "      <th>date</th>\n",
       "      <th>item_id</th>\n",
       "      <th>shop_id</th>\n",
       "      <th>avg_daily_sale_items</th>\n",
       "    </tr>\n",
       "  </thead>\n",
       "  <tbody>\n",
       "    <tr>\n",
       "      <th>0</th>\n",
       "      <td>2010-02-06</td>\n",
       "      <td>3</td>\n",
       "      <td>1</td>\n",
       "      <td>0.6</td>\n",
       "    </tr>\n",
       "    <tr>\n",
       "      <th>1</th>\n",
       "      <td>2010-02-06</td>\n",
       "      <td>2</td>\n",
       "      <td>1</td>\n",
       "      <td>0.2</td>\n",
       "    </tr>\n",
       "    <tr>\n",
       "      <th>2</th>\n",
       "      <td>2010-02-06</td>\n",
       "      <td>1</td>\n",
       "      <td>3</td>\n",
       "      <td>0.0</td>\n",
       "    </tr>\n",
       "    <tr>\n",
       "      <th>3</th>\n",
       "      <td>2010-02-07</td>\n",
       "      <td>3</td>\n",
       "      <td>1</td>\n",
       "      <td>0.6</td>\n",
       "    </tr>\n",
       "    <tr>\n",
       "      <th>4</th>\n",
       "      <td>2010-03-07</td>\n",
       "      <td>3</td>\n",
       "      <td>1</td>\n",
       "      <td>0.6</td>\n",
       "    </tr>\n",
       "  </tbody>\n",
       "</table>\n",
       "</div>"
      ],
      "text/plain": [
       "         date  item_id  shop_id  avg_daily_sale_items\n",
       "0  2010-02-06        3        1                   0.6\n",
       "1  2010-02-06        2        1                   0.2\n",
       "2  2010-02-06        1        3                   0.0\n",
       "3  2010-02-07        3        1                   0.6\n",
       "4  2010-03-07        3        1                   0.6"
      ]
     },
     "execution_count": 95,
     "metadata": {},
     "output_type": "execute_result"
    }
   ],
   "source": [
    "example = pd.DataFrame(\n",
    "    columns=['date', 'item_id', 'shop_id', 'item_cnt_day'],\n",
    "    data=[\n",
    "        ['2010-01-01', 1, 1, 2],\n",
    "        ['2010-01-01', 1, 2, 3],\n",
    "        ['2010-01-01', 2, 1, 1],\n",
    "        ['2010-01-01', 3, 1, 1],\n",
    "        ['2010-01-06', 3, 1, 2],\n",
    "    ]\n",
    ")\n",
    "\n",
    "example_test = pd.DataFrame(\n",
    "    columns=['date', 'item_id', 'shop_id'],\n",
    "    data=[\n",
    "        ['2010-02-06', 3, 1],\n",
    "        ['2010-02-06', 2, 1],\n",
    "        ['2010-02-06', 1, 3],\n",
    "        ['2010-02-07', 3, 1],\n",
    "        ['2010-03-07', 3, 1],\n",
    "    ]\n",
    ")\n",
    "\n",
    "example['date'] = pd.to_datetime(example['date'])\n",
    "reg = ForecastLastAverage()\n",
    "reg.fit(example, example['item_cnt_day'])\n",
    "predicted_daily = reg.predict(example_test)\n",
    "predicted_daily"
   ]
  },
  {
   "cell_type": "code",
   "execution_count": 101,
   "metadata": {},
   "outputs": [],
   "source": [
    "from sklearn.base import TransformerMixin, BaseEstimator\n",
    "class MonthlyAggregation(TransformerMixin, BaseEstimator):\n",
    "    def fit(self, X, y=None):\n",
    "        return self\n",
    "\n",
    "    def transform(self, X):\n",
    "        tmp = X.copy()\n",
    "        tmp['date'] = pd.to_datetime(tmp['date'])\n",
    "        tmp['year_month'] = tmp['date'].dt.strftime('%Y-%m')\n",
    "        return (tmp.groupby(\n",
    "            ['item_id', 'shop_id', 'year_month'], as_index=False)\n",
    "            .agg({'avg_daily_sale_items': 'sum'})\n",
    "            .rename({'avg_daily_sale_items': 'item_cnt_month'}, axis=1)\n",
    "        )\n",
    "    def predict(self, X):\n",
    "        return self.transform(X)"
   ]
  },
  {
   "cell_type": "code",
   "execution_count": 102,
   "metadata": {},
   "outputs": [
    {
     "data": {
      "text/html": [
       "<div>\n",
       "<style scoped>\n",
       "    .dataframe tbody tr th:only-of-type {\n",
       "        vertical-align: middle;\n",
       "    }\n",
       "\n",
       "    .dataframe tbody tr th {\n",
       "        vertical-align: top;\n",
       "    }\n",
       "\n",
       "    .dataframe thead th {\n",
       "        text-align: right;\n",
       "    }\n",
       "</style>\n",
       "<table border=\"1\" class=\"dataframe\">\n",
       "  <thead>\n",
       "    <tr style=\"text-align: right;\">\n",
       "      <th></th>\n",
       "      <th>item_id</th>\n",
       "      <th>shop_id</th>\n",
       "      <th>year_month</th>\n",
       "      <th>item_cnt_month</th>\n",
       "    </tr>\n",
       "  </thead>\n",
       "  <tbody>\n",
       "    <tr>\n",
       "      <th>0</th>\n",
       "      <td>1</td>\n",
       "      <td>3</td>\n",
       "      <td>2010-02</td>\n",
       "      <td>0.0</td>\n",
       "    </tr>\n",
       "    <tr>\n",
       "      <th>1</th>\n",
       "      <td>2</td>\n",
       "      <td>1</td>\n",
       "      <td>2010-02</td>\n",
       "      <td>0.2</td>\n",
       "    </tr>\n",
       "    <tr>\n",
       "      <th>2</th>\n",
       "      <td>3</td>\n",
       "      <td>1</td>\n",
       "      <td>2010-02</td>\n",
       "      <td>1.2</td>\n",
       "    </tr>\n",
       "    <tr>\n",
       "      <th>3</th>\n",
       "      <td>3</td>\n",
       "      <td>1</td>\n",
       "      <td>2010-03</td>\n",
       "      <td>0.6</td>\n",
       "    </tr>\n",
       "  </tbody>\n",
       "</table>\n",
       "</div>"
      ],
      "text/plain": [
       "   item_id  shop_id year_month  item_cnt_month\n",
       "0        1        3    2010-02             0.0\n",
       "1        2        1    2010-02             0.2\n",
       "2        3        1    2010-02             1.2\n",
       "3        3        1    2010-03             0.6"
      ]
     },
     "execution_count": 102,
     "metadata": {},
     "output_type": "execute_result"
    }
   ],
   "source": [
    "monthly_agg = MonthlyAggregation()\n",
    "monthly_agg.fit_transform(predicted_daily)"
   ]
  },
  {
   "cell_type": "code",
   "execution_count": 103,
   "metadata": {},
   "outputs": [
    {
     "data": {
      "text/plain": [
       "Pipeline(steps=[('forecastlastaverage',\n",
       "                 <__main__.ForecastLastAverage object at 0x7fe9fd7fa3d0>),\n",
       "                ('monthlyaggregation', MonthlyAggregation())])"
      ]
     },
     "execution_count": 103,
     "metadata": {},
     "output_type": "execute_result"
    }
   ],
   "source": [
    "from sklearn.pipeline import Pipeline\n",
    "from sklearn.pipeline import make_pipeline\n",
    "pipe = make_pipeline(\n",
    "    ForecastLastAverage(),\n",
    "    MonthlyAggregation()\n",
    ")\n",
    "pipe.fit(example, example['item_cnt_day'])"
   ]
  },
  {
   "cell_type": "code",
   "execution_count": 106,
   "metadata": {},
   "outputs": [
    {
     "data": {
      "text/html": [
       "<div>\n",
       "<style scoped>\n",
       "    .dataframe tbody tr th:only-of-type {\n",
       "        vertical-align: middle;\n",
       "    }\n",
       "\n",
       "    .dataframe tbody tr th {\n",
       "        vertical-align: top;\n",
       "    }\n",
       "\n",
       "    .dataframe thead th {\n",
       "        text-align: right;\n",
       "    }\n",
       "</style>\n",
       "<table border=\"1\" class=\"dataframe\">\n",
       "  <thead>\n",
       "    <tr style=\"text-align: right;\">\n",
       "      <th></th>\n",
       "      <th>item_id</th>\n",
       "      <th>shop_id</th>\n",
       "      <th>year_month</th>\n",
       "      <th>item_cnt_month</th>\n",
       "    </tr>\n",
       "  </thead>\n",
       "  <tbody>\n",
       "    <tr>\n",
       "      <th>0</th>\n",
       "      <td>1</td>\n",
       "      <td>3</td>\n",
       "      <td>2010-02</td>\n",
       "      <td>0.0</td>\n",
       "    </tr>\n",
       "    <tr>\n",
       "      <th>1</th>\n",
       "      <td>2</td>\n",
       "      <td>1</td>\n",
       "      <td>2010-02</td>\n",
       "      <td>0.2</td>\n",
       "    </tr>\n",
       "    <tr>\n",
       "      <th>2</th>\n",
       "      <td>3</td>\n",
       "      <td>1</td>\n",
       "      <td>2010-02</td>\n",
       "      <td>1.2</td>\n",
       "    </tr>\n",
       "    <tr>\n",
       "      <th>3</th>\n",
       "      <td>3</td>\n",
       "      <td>1</td>\n",
       "      <td>2010-03</td>\n",
       "      <td>0.6</td>\n",
       "    </tr>\n",
       "  </tbody>\n",
       "</table>\n",
       "</div>"
      ],
      "text/plain": [
       "   item_id  shop_id year_month  item_cnt_month\n",
       "0        1        3    2010-02             0.0\n",
       "1        2        1    2010-02             0.2\n",
       "2        3        1    2010-02             1.2\n",
       "3        3        1    2010-03             0.6"
      ]
     },
     "execution_count": 106,
     "metadata": {},
     "output_type": "execute_result"
    }
   ],
   "source": [
    "pipe.predict(example_test)"
   ]
  },
  {
   "cell_type": "code",
   "execution_count": null,
   "metadata": {},
   "outputs": [],
   "source": []
  }
 ],
 "metadata": {
  "kernelspec": {
   "display_name": "Python 3",
   "language": "python",
   "name": "python3"
  },
  "language_info": {
   "codemirror_mode": {
    "name": "ipython",
    "version": 3
   },
   "file_extension": ".py",
   "mimetype": "text/x-python",
   "name": "python",
   "nbconvert_exporter": "python",
   "pygments_lexer": "ipython3",
   "version": "3.8.2"
  }
 },
 "nbformat": 4,
 "nbformat_minor": 4
}
