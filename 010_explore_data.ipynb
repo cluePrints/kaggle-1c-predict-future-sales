{
 "cells": [
  {
   "cell_type": "code",
   "execution_count": 1,
   "metadata": {},
   "outputs": [],
   "source": [
    "# default_exp explore_data"
   ]
  },
  {
   "cell_type": "markdown",
   "metadata": {},
   "source": [
    "# module name here\n",
    "\n",
    "> API details."
   ]
  },
  {
   "cell_type": "code",
   "execution_count": 2,
   "metadata": {},
   "outputs": [],
   "source": [
    "#hide\n",
    "from nbdev.showdoc import *"
   ]
  },
  {
   "cell_type": "code",
   "execution_count": 3,
   "metadata": {},
   "outputs": [
    {
     "name": "stdout",
     "output_type": "stream",
     "text": [
      "competitive-data-science-predict-future-sales.zip  sample_submission.csv\r\n",
      "item_categories.csv\t\t\t\t   shops.csv\r\n",
      "items.csv\t\t\t\t\t   test.csv\r\n",
      "sales_train.csv\r\n"
     ]
    }
   ],
   "source": [
    "!ls raw"
   ]
  },
  {
   "cell_type": "code",
   "execution_count": 4,
   "metadata": {
    "scrolled": true
   },
   "outputs": [
    {
     "name": "stdout",
     "output_type": "stream",
     "text": [
      "_____________ raw/item_categories.csv _________________\n",
      " -   85  322 3573\n",
      " > item_category_name,item_category_id\n",
      " > PC - Гарнитуры/Наушники,0\n",
      " > ...\n",
      " > Чистые носители (штучные),82\n",
      " > Элементы питания,83\n",
      "\n",
      "_____________ raw/items.csv _________________\n",
      " -   22171  132636 1568417\n",
      " > item_name,item_id,item_category_id\n",
      " > ! ВО ВЛАСТИ НАВАЖДЕНИЯ (ПЛАСТ.)         D,0,40\n",
      " > ...\n",
      " > Яйцо для Little Inu,22168,62\n",
      " > Яйцо дракона (Игра престолов),22169,69\n",
      "\n",
      "_____________ raw/sales_train.csv _________________\n",
      " -  2935850  2935850 94603866\n",
      " > date,date_block_num,shop_id,item_id,item_price,item_cnt_day\n",
      " > 02.01.2013,0,59,22154,999.0,1.0\n",
      " > ...\n",
      " > 22.10.2015,33,25,7440,299.0,1.0\n",
      " > 03.10.2015,33,25,7460,299.0,1.0\n",
      "\n",
      "_____________ raw/sample_submission.csv _________________\n",
      " -  214201  214201 2245108\n",
      " > ID,item_cnt_month\n",
      " > 0,0.5\n",
      " > ...\n",
      " > 214198,0.5\n",
      " > 214199,0.5\n",
      "\n",
      "_____________ raw/shops.csv _________________\n",
      " -   61  210 2977\n",
      " > shop_name,shop_id\n",
      " > \"!Якутск Орджоникидзе, 56 фран\",0\n",
      " > ...\n",
      " > \"Якутск ТЦ \"\"Центральный\"\"\",58\n",
      " > \"Ярославль ТЦ \"\"Альтаир\"\"\",59\n",
      "\n",
      "_____________ raw/test.csv _________________\n",
      " -  214201  214201 3182735\n",
      " > ID,shop_id,item_id\n",
      " > 0,5,5037\n",
      " > ...\n",
      " > 214198,45,19648\n",
      " > 214199,45,969\n",
      "\n"
     ]
    }
   ],
   "source": [
    "%%bash\n",
    "for file in $(ls raw/*.csv); do\n",
    "  echo \"_____________ ${file} _________________\"\n",
    "  echo \" - $(wc < ${file})\"\n",
    "  head -n2 ${file} | sed 's/\\(.*\\)/ > \\1/g'\n",
    "  echo \" > ...\"\n",
    "  tail -n2 ${file} | sed 's/\\(.*\\)/ > \\1/g'\n",
    "  echo\n",
    "done"
   ]
  },
  {
   "cell_type": "markdown",
   "metadata": {},
   "source": [
    "# sales_train"
   ]
  },
  {
   "cell_type": "code",
   "execution_count": 47,
   "metadata": {},
   "outputs": [],
   "source": [
    "%matplotlib inline\n",
    "import pandas as pd\n",
    "import numpy as np\n",
    "import seaborn as sns"
   ]
  },
  {
   "cell_type": "code",
   "execution_count": 6,
   "metadata": {},
   "outputs": [],
   "source": [
    "sales_train = pd.read_csv('raw/sales_train.csv')"
   ]
  },
  {
   "cell_type": "code",
   "execution_count": 7,
   "metadata": {
    "scrolled": true
   },
   "outputs": [
    {
     "data": {
      "text/plain": [
       "date              0\n",
       "date_block_num    0\n",
       "shop_id           0\n",
       "item_id           0\n",
       "item_price        0\n",
       "item_cnt_day      0\n",
       "dtype: int64"
      ]
     },
     "execution_count": 7,
     "metadata": {},
     "output_type": "execute_result"
    }
   ],
   "source": [
    "sales_train.isnull().sum()"
   ]
  },
  {
   "cell_type": "code",
   "execution_count": 8,
   "metadata": {},
   "outputs": [
    {
     "data": {
      "text/plain": [
       "<AxesSubplot:>"
      ]
     },
     "execution_count": 8,
     "metadata": {},
     "output_type": "execute_result"
    },
    {
     "data": {
      "image/png": "[encoded data removed]",
      "text/plain": [
       "<Figure size 432x288 with 1 Axes>"
      ]
     },
     "metadata": {
      "needs_background": "light"
     },
     "output_type": "display_data"
    }
   ],
   "source": [
    "sales_train['item_cnt_day'].hist(log=True)"
   ]
  },
  {
   "cell_type": "code",
   "execution_count": 9,
   "metadata": {},
   "outputs": [
    {
     "data": {
      "text/plain": [
       "min   2013-01-01\n",
       "max   2015-12-10\n",
       "Name: date, dtype: datetime64[ns]"
      ]
     },
     "execution_count": 9,
     "metadata": {},
     "output_type": "execute_result"
    }
   ],
   "source": [
    "sales_train['date'] = pd.to_datetime(sales_train['date'])\n",
    "sales_train['date'].agg(['min', 'max'])"
   ]
  },
  {
   "cell_type": "code",
   "execution_count": 10,
   "metadata": {},
   "outputs": [
    {
     "data": {
      "text/plain": [
       "20949    31340\n",
       "5822      9408\n",
       "17717     9067\n",
       "2808      7479\n",
       "4181      6853\n",
       "         ...  \n",
       "593          1\n",
       "13866        1\n",
       "16574        1\n",
       "20668        1\n",
       "0            1\n",
       "Name: item_id, Length: 21807, dtype: int64"
      ]
     },
     "execution_count": 10,
     "metadata": {},
     "output_type": "execute_result"
    }
   ],
   "source": [
    "# Note that the list of shops and products slightly changes every month.\n",
    "# Creating a robust model that can handle such situations is part of the challenge.\n",
    "sales_train['item_id'].value_counts()"
   ]
  },
  {
   "cell_type": "code",
   "execution_count": 24,
   "metadata": {},
   "outputs": [
    {
     "data": {
      "text/plain": [
       "20949    31340\n",
       "5822      9408\n",
       "17717     9067\n",
       "2808      7479\n",
       "4181      6853\n",
       "         ...  \n",
       "593          1\n",
       "13866        1\n",
       "16574        1\n",
       "20668        1\n",
       "0            1\n",
       "Name: item_id, Length: 21807, dtype: int64"
      ]
     },
     "execution_count": 24,
     "metadata": {},
     "output_type": "execute_result"
    }
   ],
   "source": [
    "train_counts_by_item_id = sales_train['item_id'].value_counts()\n",
    "train_counts_by_item_id"
   ]
  },
  {
   "cell_type": "code",
   "execution_count": 15,
   "metadata": {},
   "outputs": [],
   "source": [
    "sales_test = pd.read_csv('raw/test.csv')"
   ]
  },
  {
   "cell_type": "code",
   "execution_count": 21,
   "metadata": {},
   "outputs": [
    {
     "data": {
      "text/plain": [
       "2047     42\n",
       "19744    42\n",
       "15406    42\n",
       "13359    42\n",
       "3240     42\n",
       "         ..\n",
       "21086    42\n",
       "21214    42\n",
       "17244    42\n",
       "21342    42\n",
       "2049     42\n",
       "Name: item_id, Length: 5100, dtype: int64"
      ]
     },
     "execution_count": 21,
     "metadata": {},
     "output_type": "execute_result"
    }
   ],
   "source": [
    "# So there seem to be less items in test vs train. There seem to be 42 shops\n",
    "test_counts_by_id = sales_test['item_id'].value_counts()\n",
    "test_counts_by_id"
   ]
  },
  {
   "cell_type": "code",
   "execution_count": 44,
   "metadata": {},
   "outputs": [
    {
     "data": {
      "text/html": [
       "<div>\n",
       "<style scoped>\n",
       "    .dataframe tbody tr th:only-of-type {\n",
       "        vertical-align: middle;\n",
       "    }\n",
       "\n",
       "    .dataframe tbody tr th {\n",
       "        vertical-align: top;\n",
       "    }\n",
       "\n",
       "    .dataframe thead th {\n",
       "        text-align: right;\n",
       "    }\n",
       "</style>\n",
       "<table border=\"1\" class=\"dataframe\">\n",
       "  <thead>\n",
       "    <tr style=\"text-align: right;\">\n",
       "      <th></th>\n",
       "      <th>cnt_test</th>\n",
       "      <th>cnt_trn</th>\n",
       "    </tr>\n",
       "  </thead>\n",
       "  <tbody>\n",
       "    <tr>\n",
       "      <th>2047</th>\n",
       "      <td>42</td>\n",
       "      <td>752.0</td>\n",
       "    </tr>\n",
       "    <tr>\n",
       "      <th>19744</th>\n",
       "      <td>42</td>\n",
       "      <td>51.0</td>\n",
       "    </tr>\n",
       "    <tr>\n",
       "      <th>15406</th>\n",
       "      <td>42</td>\n",
       "      <td>71.0</td>\n",
       "    </tr>\n",
       "    <tr>\n",
       "      <th>13359</th>\n",
       "      <td>42</td>\n",
       "      <td>78.0</td>\n",
       "    </tr>\n",
       "    <tr>\n",
       "      <th>3240</th>\n",
       "      <td>42</td>\n",
       "      <td>19.0</td>\n",
       "    </tr>\n",
       "    <tr>\n",
       "      <th>...</th>\n",
       "      <td>...</td>\n",
       "      <td>...</td>\n",
       "    </tr>\n",
       "    <tr>\n",
       "      <th>21086</th>\n",
       "      <td>42</td>\n",
       "      <td>27.0</td>\n",
       "    </tr>\n",
       "    <tr>\n",
       "      <th>21214</th>\n",
       "      <td>42</td>\n",
       "      <td>NaN</td>\n",
       "    </tr>\n",
       "    <tr>\n",
       "      <th>17244</th>\n",
       "      <td>42</td>\n",
       "      <td>48.0</td>\n",
       "    </tr>\n",
       "    <tr>\n",
       "      <th>21342</th>\n",
       "      <td>42</td>\n",
       "      <td>14.0</td>\n",
       "    </tr>\n",
       "    <tr>\n",
       "      <th>2049</th>\n",
       "      <td>42</td>\n",
       "      <td>88.0</td>\n",
       "    </tr>\n",
       "  </tbody>\n",
       "</table>\n",
       "<p>5100 rows × 2 columns</p>\n",
       "</div>"
      ],
      "text/plain": [
       "       cnt_test  cnt_trn\n",
       "2047         42    752.0\n",
       "19744        42     51.0\n",
       "15406        42     71.0\n",
       "13359        42     78.0\n",
       "3240         42     19.0\n",
       "...         ...      ...\n",
       "21086        42     27.0\n",
       "21214        42      NaN\n",
       "17244        42     48.0\n",
       "21342        42     14.0\n",
       "2049         42     88.0\n",
       "\n",
       "[5100 rows x 2 columns]"
      ]
     },
     "execution_count": 44,
     "metadata": {},
     "output_type": "execute_result"
    }
   ],
   "source": [
    "records_by_item = pd.DataFrame(test_counts_by_id).join(\n",
    "    pd.DataFrame(train_counts_by_item_id), \n",
    "    lsuffix='_test', rsuffix='_trn'\n",
    ").rename({'item_id_test': 'cnt_test',\n",
    "         'item_id_trn': 'cnt_trn'}, axis=1)\n",
    "records_by_item"
   ]
  },
  {
   "cell_type": "code",
   "execution_count": 51,
   "metadata": {},
   "outputs": [
    {
     "data": {
      "text/html": [
       "<div>\n",
       "<style scoped>\n",
       "    .dataframe tbody tr th:only-of-type {\n",
       "        vertical-align: middle;\n",
       "    }\n",
       "\n",
       "    .dataframe tbody tr th {\n",
       "        vertical-align: top;\n",
       "    }\n",
       "\n",
       "    .dataframe thead th {\n",
       "        text-align: right;\n",
       "    }\n",
       "</style>\n",
       "<table border=\"1\" class=\"dataframe\">\n",
       "  <thead>\n",
       "    <tr style=\"text-align: right;\">\n",
       "      <th></th>\n",
       "      <th>cnt_test</th>\n",
       "      <th>cnt_trn</th>\n",
       "    </tr>\n",
       "  </thead>\n",
       "  <tbody>\n",
       "    <tr>\n",
       "      <th>1193</th>\n",
       "      <td>42</td>\n",
       "      <td>NaN</td>\n",
       "    </tr>\n",
       "    <tr>\n",
       "      <th>13231</th>\n",
       "      <td>42</td>\n",
       "      <td>NaN</td>\n",
       "    </tr>\n",
       "    <tr>\n",
       "      <th>1577</th>\n",
       "      <td>42</td>\n",
       "      <td>NaN</td>\n",
       "    </tr>\n",
       "    <tr>\n",
       "      <th>12591</th>\n",
       "      <td>42</td>\n",
       "      <td>NaN</td>\n",
       "    </tr>\n",
       "    <tr>\n",
       "      <th>14765</th>\n",
       "      <td>42</td>\n",
       "      <td>NaN</td>\n",
       "    </tr>\n",
       "    <tr>\n",
       "      <th>...</th>\n",
       "      <td>...</td>\n",
       "      <td>...</td>\n",
       "    </tr>\n",
       "    <tr>\n",
       "      <th>3538</th>\n",
       "      <td>42</td>\n",
       "      <td>NaN</td>\n",
       "    </tr>\n",
       "    <tr>\n",
       "      <th>4310</th>\n",
       "      <td>42</td>\n",
       "      <td>NaN</td>\n",
       "    </tr>\n",
       "    <tr>\n",
       "      <th>13394</th>\n",
       "      <td>42</td>\n",
       "      <td>NaN</td>\n",
       "    </tr>\n",
       "    <tr>\n",
       "      <th>6743</th>\n",
       "      <td>42</td>\n",
       "      <td>NaN</td>\n",
       "    </tr>\n",
       "    <tr>\n",
       "      <th>21214</th>\n",
       "      <td>42</td>\n",
       "      <td>NaN</td>\n",
       "    </tr>\n",
       "  </tbody>\n",
       "</table>\n",
       "<p>363 rows × 2 columns</p>\n",
       "</div>"
      ],
      "text/plain": [
       "       cnt_test  cnt_trn\n",
       "1193         42      NaN\n",
       "13231        42      NaN\n",
       "1577         42      NaN\n",
       "12591        42      NaN\n",
       "14765        42      NaN\n",
       "...         ...      ...\n",
       "3538         42      NaN\n",
       "4310         42      NaN\n",
       "13394        42      NaN\n",
       "6743         42      NaN\n",
       "21214        42      NaN\n",
       "\n",
       "[363 rows x 2 columns]"
      ]
     },
     "execution_count": 51,
     "metadata": {},
     "output_type": "execute_result"
    }
   ],
   "source": [
    "# some of the items never appeared in train\n",
    "nan = np.nan\n",
    "records_by_item.query('cnt_trn != cnt_trn')"
   ]
  },
  {
   "cell_type": "code",
   "execution_count": 53,
   "metadata": {},
   "outputs": [
    {
     "data": {
      "text/html": [
       "<div>\n",
       "<style scoped>\n",
       "    .dataframe tbody tr th:only-of-type {\n",
       "        vertical-align: middle;\n",
       "    }\n",
       "\n",
       "    .dataframe tbody tr th {\n",
       "        vertical-align: top;\n",
       "    }\n",
       "\n",
       "    .dataframe thead th {\n",
       "        text-align: right;\n",
       "    }\n",
       "</style>\n",
       "<table border=\"1\" class=\"dataframe\">\n",
       "  <thead>\n",
       "    <tr style=\"text-align: right;\">\n",
       "      <th></th>\n",
       "      <th>item_name</th>\n",
       "      <th>item_id</th>\n",
       "      <th>item_category_id</th>\n",
       "    </tr>\n",
       "  </thead>\n",
       "  <tbody>\n",
       "    <tr>\n",
       "      <th>0</th>\n",
       "      <td>! ВО ВЛАСТИ НАВАЖДЕНИЯ (ПЛАСТ.)         D</td>\n",
       "      <td>0</td>\n",
       "      <td>40</td>\n",
       "    </tr>\n",
       "  </tbody>\n",
       "</table>\n",
       "</div>"
      ],
      "text/plain": [
       "                                   item_name  item_id  item_category_id\n",
       "0  ! ВО ВЛАСТИ НАВАЖДЕНИЯ (ПЛАСТ.)         D        0                40"
      ]
     },
     "execution_count": 53,
     "metadata": {},
     "output_type": "execute_result"
    }
   ],
   "source": [
    "items = pd.read_csv('raw/items.csv')\n",
    "items.head(1)"
   ]
  },
  {
   "cell_type": "code",
   "execution_count": 58,
   "metadata": {},
   "outputs": [
    {
     "data": {
      "text/html": [
       "<div>\n",
       "<style scoped>\n",
       "    .dataframe tbody tr th:only-of-type {\n",
       "        vertical-align: middle;\n",
       "    }\n",
       "\n",
       "    .dataframe tbody tr th {\n",
       "        vertical-align: top;\n",
       "    }\n",
       "\n",
       "    .dataframe thead th {\n",
       "        text-align: right;\n",
       "    }\n",
       "</style>\n",
       "<table border=\"1\" class=\"dataframe\">\n",
       "  <thead>\n",
       "    <tr style=\"text-align: right;\">\n",
       "      <th></th>\n",
       "      <th>cnt_test</th>\n",
       "      <th>cnt_trn</th>\n",
       "    </tr>\n",
       "    <tr>\n",
       "      <th>item_category_id</th>\n",
       "      <th></th>\n",
       "      <th></th>\n",
       "    </tr>\n",
       "  </thead>\n",
       "  <tbody>\n",
       "    <tr>\n",
       "      <th>0</th>\n",
       "      <td>42</td>\n",
       "      <td>0.0</td>\n",
       "    </tr>\n",
       "    <tr>\n",
       "      <th>27</th>\n",
       "      <td>42</td>\n",
       "      <td>0.0</td>\n",
       "    </tr>\n",
       "  </tbody>\n",
       "</table>\n",
       "</div>"
      ],
      "text/plain": [
       "                  cnt_test  cnt_trn\n",
       "item_category_id                   \n",
       "0                       42      0.0\n",
       "27                      42      0.0"
      ]
     },
     "execution_count": 58,
     "metadata": {},
     "output_type": "execute_result"
    }
   ],
   "source": [
    "# Some of the categories in test were not in train\n",
    "(records_by_item\n",
    "    .merge(items, right_on='item_id', left_index=True)\n",
    "    .fillna(0)\n",
    "    .groupby('item_category_id')\n",
    "    .agg({'cnt_test': 'sum', 'cnt_trn': 'sum'})\n",
    "    .query('cnt_trn == 0')\n",
    ")"
   ]
  },
  {
   "cell_type": "code",
   "execution_count": 83,
   "metadata": {
    "scrolled": true
   },
   "outputs": [
    {
     "data": {
      "text/plain": [
       "item_name           12\n",
       "item_id             12\n",
       "item_category_id    12\n",
       "dtype: int64"
      ]
     },
     "execution_count": 83,
     "metadata": {},
     "output_type": "execute_result"
    }
   ],
   "source": [
    "items.query('item_category_id == 0 or item_category_id == 27').count()"
   ]
  },
  {
   "cell_type": "code",
   "execution_count": 70,
   "metadata": {},
   "outputs": [
    {
     "data": {
      "text/plain": [
       "cnt_test    42.0\n",
       "cnt_trn      NaN\n",
       "Name: 21214, dtype: float64"
      ]
     },
     "execution_count": 70,
     "metadata": {},
     "output_type": "execute_result"
    }
   ],
   "source": [
    "records_by_item.loc[21214]"
   ]
  },
  {
   "cell_type": "code",
   "execution_count": 82,
   "metadata": {},
   "outputs": [
    {
     "data": {
      "text/html": [
       "<div>\n",
       "<style scoped>\n",
       "    .dataframe tbody tr th:only-of-type {\n",
       "        vertical-align: middle;\n",
       "    }\n",
       "\n",
       "    .dataframe tbody tr th {\n",
       "        vertical-align: top;\n",
       "    }\n",
       "\n",
       "    .dataframe thead th {\n",
       "        text-align: right;\n",
       "    }\n",
       "</style>\n",
       "<table border=\"1\" class=\"dataframe\">\n",
       "  <thead>\n",
       "    <tr style=\"text-align: right;\">\n",
       "      <th></th>\n",
       "      <th>ID</th>\n",
       "      <th>shop_id</th>\n",
       "      <th>item_id</th>\n",
       "      <th>item_name</th>\n",
       "      <th>item_category_id</th>\n",
       "    </tr>\n",
       "  </thead>\n",
       "  <tbody>\n",
       "    <tr>\n",
       "      <th>147588</th>\n",
       "      <td>3514</td>\n",
       "      <td>5</td>\n",
       "      <td>5441</td>\n",
       "      <td>PC: Гарнитура HyperX Cloud Core игровая стерео...</td>\n",
       "      <td>0</td>\n",
       "    </tr>\n",
       "  </tbody>\n",
       "</table>\n",
       "</div>"
      ],
      "text/plain": [
       "          ID  shop_id  item_id  \\\n",
       "147588  3514        5     5441   \n",
       "\n",
       "                                                item_name  item_category_id  \n",
       "147588  PC: Гарнитура HyperX Cloud Core игровая стерео...                 0  "
      ]
     },
     "execution_count": 82,
     "metadata": {},
     "output_type": "execute_result"
    }
   ],
   "source": [
    "(sales_test.merge(items, on='item_id')\n",
    " .query('item_category_id == 0 or item_category_id == 27')\n",
    " .head(1)\n",
    ")"
   ]
  },
  {
   "cell_type": "code",
   "execution_count": 81,
   "metadata": {},
   "outputs": [
    {
     "data": {
      "text/plain": [
       "cnt_test    42.0\n",
       "cnt_trn      NaN\n",
       "Name: 5441, dtype: float64"
      ]
     },
     "execution_count": 81,
     "metadata": {},
     "output_type": "execute_result"
    }
   ],
   "source": [
    "records_by_item.loc[5441]"
   ]
  },
  {
   "cell_type": "code",
   "execution_count": 61,
   "metadata": {},
   "outputs": [],
   "source": [
    "# Q1: what's the relationship between train & test set in terms of items\n",
    "# Q2: what's the relationship between train & test set in terms of shops\n",
    "# Q3: what's the latest sales info available for an item / shop requested to be predicted?"
   ]
  },
  {
   "cell_type": "code",
   "execution_count": 77,
   "metadata": {},
   "outputs": [
    {
     "data": {
      "text/html": [
       "<div>\n",
       "<style scoped>\n",
       "    .dataframe tbody tr th:only-of-type {\n",
       "        vertical-align: middle;\n",
       "    }\n",
       "\n",
       "    .dataframe tbody tr th {\n",
       "        vertical-align: top;\n",
       "    }\n",
       "\n",
       "    .dataframe thead th {\n",
       "        text-align: right;\n",
       "    }\n",
       "</style>\n",
       "<table border=\"1\" class=\"dataframe\">\n",
       "  <thead>\n",
       "    <tr style=\"text-align: right;\">\n",
       "      <th></th>\n",
       "      <th>item_name</th>\n",
       "      <th>item_id</th>\n",
       "      <th>item_category_id</th>\n",
       "    </tr>\n",
       "  </thead>\n",
       "  <tbody>\n",
       "    <tr>\n",
       "      <th>0</th>\n",
       "      <td>! ВО ВЛАСТИ НАВАЖДЕНИЯ (ПЛАСТ.)         D</td>\n",
       "      <td>0</td>\n",
       "      <td>40</td>\n",
       "    </tr>\n",
       "    <tr>\n",
       "      <th>1</th>\n",
       "      <td>!ABBYY FineReader 12 Professional Edition Full...</td>\n",
       "      <td>1</td>\n",
       "      <td>76</td>\n",
       "    </tr>\n",
       "    <tr>\n",
       "      <th>2</th>\n",
       "      <td>***В ЛУЧАХ СЛАВЫ   (UNV)                    D</td>\n",
       "      <td>2</td>\n",
       "      <td>40</td>\n",
       "    </tr>\n",
       "    <tr>\n",
       "      <th>3</th>\n",
       "      <td>***ГОЛУБАЯ ВОЛНА  (Univ)                      D</td>\n",
       "      <td>3</td>\n",
       "      <td>40</td>\n",
       "    </tr>\n",
       "    <tr>\n",
       "      <th>4</th>\n",
       "      <td>***КОРОБКА (СТЕКЛО)                       D</td>\n",
       "      <td>4</td>\n",
       "      <td>40</td>\n",
       "    </tr>\n",
       "    <tr>\n",
       "      <th>...</th>\n",
       "      <td>...</td>\n",
       "      <td>...</td>\n",
       "      <td>...</td>\n",
       "    </tr>\n",
       "    <tr>\n",
       "      <th>22165</th>\n",
       "      <td>Ядерный титбит 2 [PC, Цифровая версия]</td>\n",
       "      <td>22165</td>\n",
       "      <td>31</td>\n",
       "    </tr>\n",
       "    <tr>\n",
       "      <th>22166</th>\n",
       "      <td>Язык запросов 1С:Предприятия  [Цифровая версия]</td>\n",
       "      <td>22166</td>\n",
       "      <td>54</td>\n",
       "    </tr>\n",
       "    <tr>\n",
       "      <th>22167</th>\n",
       "      <td>Язык запросов 1С:Предприятия 8 (+CD). Хрустале...</td>\n",
       "      <td>22167</td>\n",
       "      <td>49</td>\n",
       "    </tr>\n",
       "    <tr>\n",
       "      <th>22168</th>\n",
       "      <td>Яйцо для Little Inu</td>\n",
       "      <td>22168</td>\n",
       "      <td>62</td>\n",
       "    </tr>\n",
       "    <tr>\n",
       "      <th>22169</th>\n",
       "      <td>Яйцо дракона (Игра престолов)</td>\n",
       "      <td>22169</td>\n",
       "      <td>69</td>\n",
       "    </tr>\n",
       "  </tbody>\n",
       "</table>\n",
       "<p>22170 rows × 3 columns</p>\n",
       "</div>"
      ],
      "text/plain": [
       "                                               item_name  item_id  \\\n",
       "0              ! ВО ВЛАСТИ НАВАЖДЕНИЯ (ПЛАСТ.)         D        0   \n",
       "1      !ABBYY FineReader 12 Professional Edition Full...        1   \n",
       "2          ***В ЛУЧАХ СЛАВЫ   (UNV)                    D        2   \n",
       "3        ***ГОЛУБАЯ ВОЛНА  (Univ)                      D        3   \n",
       "4            ***КОРОБКА (СТЕКЛО)                       D        4   \n",
       "...                                                  ...      ...   \n",
       "22165             Ядерный титбит 2 [PC, Цифровая версия]    22165   \n",
       "22166    Язык запросов 1С:Предприятия  [Цифровая версия]    22166   \n",
       "22167  Язык запросов 1С:Предприятия 8 (+CD). Хрустале...    22167   \n",
       "22168                                Яйцо для Little Inu    22168   \n",
       "22169                      Яйцо дракона (Игра престолов)    22169   \n",
       "\n",
       "       item_category_id  \n",
       "0                    40  \n",
       "1                    76  \n",
       "2                    40  \n",
       "3                    40  \n",
       "4                    40  \n",
       "...                 ...  \n",
       "22165                31  \n",
       "22166                54  \n",
       "22167                49  \n",
       "22168                62  \n",
       "22169                69  \n",
       "\n",
       "[22170 rows x 3 columns]"
      ]
     },
     "execution_count": 77,
     "metadata": {},
     "output_type": "execute_result"
    }
   ],
   "source": [
    "items"
   ]
  },
  {
   "cell_type": "code",
   "execution_count": null,
   "metadata": {},
   "outputs": [],
   "source": []
  }
 ],
 "metadata": {
  "kernelspec": {
   "display_name": "Python 3",
   "language": "python",
   "name": "python3"
  },
  "language_info": {
   "codemirror_mode": {
    "name": "ipython",
    "version": 3
   },
   "file_extension": ".py",
   "mimetype": "text/x-python",
   "name": "python",
   "nbconvert_exporter": "python",
   "pygments_lexer": "ipython3",
   "version": "3.8.2"
  }
 },
 "nbformat": 4,
 "nbformat_minor": 2
}
